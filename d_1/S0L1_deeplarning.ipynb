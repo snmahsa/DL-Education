{
  "nbformat": 4,
  "nbformat_minor": 0,
  "metadata": {
    "colab": {
      "provenance": [],
      "gpuType": "T4"
    },
    "kernelspec": {
      "name": "python3",
      "display_name": "Python 3"
    },
    "language_info": {
      "name": "python"
    },
    "accelerator": "GPU"
  },
  "cells": [
    {
      "cell_type": "markdown",
      "source": [
        "Image Data Set :\n",
        "\n",
        "MAGENET\n",
        "\n",
        "AR10\n",
        "\n",
        "MNIST Digits\n",
        "\n",
        "MNIST Fashion\n",
        "\n",
        "\n",
        "or\n",
        "in Kaggle"
      ],
      "metadata": {
        "id": "krM-WjQHmOKV"
      }
    },
    {
      "cell_type": "code",
      "source": [
        "import numpy\n",
        "from tensorflow import keras\n",
        "from keras.constraints import maxnorm\n",
        "from keras.utils import np_utils\n",
        "from keras.datasets import cifar10\n",
        "#keras.model\n",
        "from keras.models import Sequential\n",
        "from keras.models import load_model\n",
        "#keras.layers\n",
        "from keras.layers import Conv2D\n",
        "from keras.layers import Dense\n",
        "from keras.layers import Dropout\n",
        "from keras.layers import Flatten\n",
        "from keras.layers import MaxPool2D\n",
        "from keras.layers import BatchNormalization\n",
        "#sklearn.preprocessing\n",
        "from sklearn.preprocessing import OneHotEncoder\n",
        "#keras.callbacks\n",
        "from keras.callbacks import EarlyStopping\n",
        "#sklearn.metrics\n",
        "from sklearn.metrics import confusion_matrix"
      ],
      "metadata": {
        "id": "PBJ00DmDmN0f"
      },
      "execution_count": 1,
      "outputs": []
    },
    {
      "cell_type": "code",
      "source": [
        "import pandas as pd\n",
        "import numpy as np"
      ],
      "metadata": {
        "id": "1I1IxuRoR2Dx"
      },
      "execution_count": 41,
      "outputs": []
    },
    {
      "cell_type": "code",
      "source": [
        "import matplotlib.pyplot as plt\n",
        "import seaborn as sns; sns.set()\n",
        ""
      ],
      "metadata": {
        "id": "HNhgwMmmtxdu"
      },
      "execution_count": 46,
      "outputs": []
    },
    {
      "cell_type": "code",
      "execution_count": 3,
      "metadata": {
        "colab": {
          "base_uri": "https://localhost:8080/"
        },
        "id": "6iDDfdC0l_Rk",
        "outputId": "4ed4a849-41eb-4949-9582-ee1d914cbe97"
      },
      "outputs": [
        {
          "output_type": "stream",
          "name": "stdout",
          "text": [
            "Downloading data from https://www.cs.toronto.edu/~kriz/cifar-10-python.tar.gz\n",
            "170498071/170498071 [==============================] - 6s 0us/step\n"
          ]
        }
      ],
      "source": [
        "#load data. x is image and y is label\n",
        "(x_train, y_train), (x_test, y_test) = cifar10.load_data()"
      ]
    },
    {
      "cell_type": "code",
      "source": [
        "#shape . (number of image , pixcel size , pixcel size , channels)\n",
        "x_train.shape"
      ],
      "metadata": {
        "colab": {
          "base_uri": "https://localhost:8080/"
        },
        "id": "VkmdYoGdo8ot",
        "outputId": "48ea58c1-b1c0-4897-df84-f0846f23f23c"
      },
      "execution_count": 4,
      "outputs": [
        {
          "output_type": "execute_result",
          "data": {
            "text/plain": [
              "(50000, 32, 32, 3)"
            ]
          },
          "metadata": {},
          "execution_count": 4
        }
      ]
    },
    {
      "cell_type": "code",
      "source": [
        "x_test.shape"
      ],
      "metadata": {
        "colab": {
          "base_uri": "https://localhost:8080/"
        },
        "id": "DNH9XZdLExnT",
        "outputId": "ff0d25c9-1409-4a53-8b8d-ef75651dcd49"
      },
      "execution_count": 5,
      "outputs": [
        {
          "output_type": "execute_result",
          "data": {
            "text/plain": [
              "(10000, 32, 32, 3)"
            ]
          },
          "metadata": {},
          "execution_count": 5
        }
      ]
    },
    {
      "cell_type": "code",
      "source": [
        "#shape\n",
        "y_train.shape"
      ],
      "metadata": {
        "colab": {
          "base_uri": "https://localhost:8080/"
        },
        "id": "-JEk1l9spO58",
        "outputId": "b286b4df-aba2-426e-dc3e-2fcabf156eb2"
      },
      "execution_count": 6,
      "outputs": [
        {
          "output_type": "execute_result",
          "data": {
            "text/plain": [
              "(50000, 1)"
            ]
          },
          "metadata": {},
          "execution_count": 6
        }
      ]
    },
    {
      "cell_type": "code",
      "source": [
        "y_test.shape"
      ],
      "metadata": {
        "colab": {
          "base_uri": "https://localhost:8080/"
        },
        "id": "Bo4LXOvkE3Es",
        "outputId": "f65c8644-6a22-4e0b-e428-9c2524f4ee2b"
      },
      "execution_count": 7,
      "outputs": [
        {
          "output_type": "execute_result",
          "data": {
            "text/plain": [
              "(10000, 1)"
            ]
          },
          "metadata": {},
          "execution_count": 7
        }
      ]
    },
    {
      "cell_type": "code",
      "source": [
        "plt.imshow(x_train[0])\n"
      ],
      "metadata": {
        "colab": {
          "base_uri": "https://localhost:8080/",
          "height": 447
        },
        "id": "U0SOWw7luA4G",
        "outputId": "7ed66f50-044d-4c2d-c526-4a21cdebe6bf"
      },
      "execution_count": 10,
      "outputs": [
        {
          "output_type": "execute_result",
          "data": {
            "text/plain": [
              "<matplotlib.image.AxesImage at 0x7976d636e410>"
            ]
          },
          "metadata": {},
          "execution_count": 10
        },
        {
          "output_type": "display_data",
          "data": {
            "text/plain": [
              "<Figure size 640x480 with 1 Axes>"
            ],
            "image/png": "[encoded data removed]"
          },
          "metadata": {}
        }
      ]
    },
    {
      "cell_type": "code",
      "source": [
        "#y_train\n",
        "y_train"
      ],
      "metadata": {
        "colab": {
          "base_uri": "https://localhost:8080/"
        },
        "id": "WJb6ENQdpXLZ",
        "outputId": "4f94267b-1103-4839-ab4e-bf7fc459f513"
      },
      "execution_count": 11,
      "outputs": [
        {
          "output_type": "execute_result",
          "data": {
            "text/plain": [
              "array([[6],\n",
              "       [9],\n",
              "       [9],\n",
              "       ...,\n",
              "       [9],\n",
              "       [1],\n",
              "       [1]], dtype=uint8)"
            ]
          },
          "metadata": {},
          "execution_count": 11
        }
      ]
    },
    {
      "cell_type": "code",
      "source": [
        "#Normalize the inputs : 0 _ 255 -> 0 _ 1\n",
        "x_train_floated = x_train.astype('float32')\n",
        "x_test_floated = x_test.astype('float')\n",
        "x_train_norm = x_train_floated / 255.0\n",
        "x_test_norm = x_test_floated / 255.0"
      ],
      "metadata": {
        "id": "20h4BrTAr6p2"
      },
      "execution_count": 5,
      "outputs": []
    },
    {
      "cell_type": "code",
      "source": [
        "#label\n",
        "y_train[0]"
      ],
      "metadata": {
        "colab": {
          "base_uri": "https://localhost:8080/"
        },
        "id": "MqocDgaSvJ0y",
        "outputId": "0aa6225d-c86c-4037-e17b-f57496e84d95"
      },
      "execution_count": 13,
      "outputs": [
        {
          "output_type": "execute_result",
          "data": {
            "text/plain": [
              "array([6], dtype=uint8)"
            ]
          },
          "metadata": {},
          "execution_count": 13
        }
      ]
    },
    {
      "cell_type": "code",
      "source": [
        "y_train_onehot = np_utils.to_categorical(y_train)\n",
        "y_test_onehot = np_utils.to_categorical(y_test)"
      ],
      "metadata": {
        "id": "DO4ePfOvwEMB"
      },
      "execution_count": 6,
      "outputs": []
    },
    {
      "cell_type": "code",
      "source": [
        "y_train_onehot[0]"
      ],
      "metadata": {
        "colab": {
          "base_uri": "https://localhost:8080/"
        },
        "id": "FK_DXJwBw674",
        "outputId": "259a534f-18bf-4b97-abf7-6e9a3cc49090"
      },
      "execution_count": 15,
      "outputs": [
        {
          "output_type": "execute_result",
          "data": {
            "text/plain": [
              "array([0., 0., 0., 0., 0., 0., 1., 0., 0., 0.], dtype=float32)"
            ]
          },
          "metadata": {},
          "execution_count": 15
        }
      ]
    },
    {
      "cell_type": "code",
      "source": [
        "num_class = y_train_onehot.shape[1]\n",
        "num_class"
      ],
      "metadata": {
        "colab": {
          "base_uri": "https://localhost:8080/"
        },
        "id": "tLl6cCPeH_yS",
        "outputId": "12476832-5797-4010-91b5-c710e5c19834"
      },
      "execution_count": 9,
      "outputs": [
        {
          "output_type": "execute_result",
          "data": {
            "text/plain": [
              "10"
            ]
          },
          "metadata": {},
          "execution_count": 9
        }
      ]
    },
    {
      "cell_type": "markdown",
      "source": [
        "## Model"
      ],
      "metadata": {
        "id": "0PWEeOXSxAVA"
      }
    },
    {
      "cell_type": "markdown",
      "source": [
        "Sequential\n"
      ],
      "metadata": {
        "id": "-9I5tmzA2dH0"
      }
    },
    {
      "cell_type": "code",
      "source": [
        "model = Sequential()"
      ],
      "metadata": {
        "id": "5ZuAzxisxDv9"
      },
      "execution_count": 7,
      "outputs": []
    },
    {
      "cell_type": "code",
      "source": [
        "model = Sequential()\n",
        "#32 filters with dimensions of 3 by 3\n",
        "model.add(Conv2D(32, (3,3), padding='same', input_shape=x_train_norm.shape[1:], activation='relu'))\n",
        "model.add(Dropout(0.2))\n",
        "model.add(BatchNormalization())\n",
        "#64 filters with dimensions of 3 by 3\n",
        "model.add(Conv2D(64, (3,3), padding='same', activation='relu'))\n",
        "model.add(MaxPool2D(2))\n",
        "model.add(Dropout(0.2))\n",
        "model.add(BatchNormalization())\n",
        "\n",
        "model.add(Conv2D(64, (3,3), padding='same', activation='relu'))\n",
        "model.add(MaxPool2D(2))\n",
        "model.add(Dropout(0.2))\n",
        "model.add(BatchNormalization())\n",
        "\n",
        "model.add(Conv2D(128, (3,3), padding='same', activation='relu'))\n",
        "model.add(Dropout(0.2))\n",
        "model.add(BatchNormalization())\n",
        "\n",
        "model.add(Flatten())\n",
        "model.add(Dropout(0.2))\n",
        "\n",
        "model.add(Dense(32, activation='relu'))\n",
        "model.add(Dropout(0.2))\n",
        "model.add(BatchNormalization())\n",
        "\n",
        "model.add(Dense(num_class, activation = 'softmax'))"
      ],
      "metadata": {
        "id": "7jHbMl46ILrV"
      },
      "execution_count": 10,
      "outputs": []
    },
    {
      "cell_type": "code",
      "source": [
        "model.compile(loss='categorical_crossentropy', optimizer = 'adam' , metrics = ['accuracy'])"
      ],
      "metadata": {
        "id": "KICOaOr8ISh8"
      },
      "execution_count": 11,
      "outputs": []
    },
    {
      "cell_type": "code",
      "source": [
        "model.summary()"
      ],
      "metadata": {
        "colab": {
          "base_uri": "https://localhost:8080/"
        },
        "id": "TMp-ikIq_zdh",
        "outputId": "faaae8f2-0416-4bbd-c759-1e962c3e46bd"
      },
      "execution_count": 12,
      "outputs": [
        {
          "output_type": "stream",
          "name": "stdout",
          "text": [
            "Model: \"sequential_2\"\n",
            "_________________________________________________________________\n",
            " Layer (type)                Output Shape              Param #   \n",
            "=================================================================\n",
            " conv2d_4 (Conv2D)           (None, 32, 32, 32)        896       \n",
            "                                                                 \n",
            " dropout_6 (Dropout)         (None, 32, 32, 32)        0         \n",
            "                                                                 \n",
            " batch_normalization_5 (Batc  (None, 32, 32, 32)       128       \n",
            " hNormalization)                                                 \n",
            "                                                                 \n",
            " conv2d_5 (Conv2D)           (None, 32, 32, 64)        18496     \n",
            "                                                                 \n",
            " max_pooling2d_2 (MaxPooling  (None, 16, 16, 64)       0         \n",
            " 2D)                                                             \n",
            "                                                                 \n",
            " dropout_7 (Dropout)         (None, 16, 16, 64)        0         \n",
            "                                                                 \n",
            " batch_normalization_6 (Batc  (None, 16, 16, 64)       256       \n",
            " hNormalization)                                                 \n",
            "                                                                 \n",
            " conv2d_6 (Conv2D)           (None, 16, 16, 64)        36928     \n",
            "                                                                 \n",
            " max_pooling2d_3 (MaxPooling  (None, 8, 8, 64)         0         \n",
            " 2D)                                                             \n",
            "                                                                 \n",
            " dropout_8 (Dropout)         (None, 8, 8, 64)          0         \n",
            "                                                                 \n",
            " batch_normalization_7 (Batc  (None, 8, 8, 64)         256       \n",
            " hNormalization)                                                 \n",
            "                                                                 \n",
            " conv2d_7 (Conv2D)           (None, 8, 8, 128)         73856     \n",
            "                                                                 \n",
            " dropout_9 (Dropout)         (None, 8, 8, 128)         0         \n",
            "                                                                 \n",
            " batch_normalization_8 (Batc  (None, 8, 8, 128)        512       \n",
            " hNormalization)                                                 \n",
            "                                                                 \n",
            " flatten_1 (Flatten)         (None, 8192)              0         \n",
            "                                                                 \n",
            " dropout_10 (Dropout)        (None, 8192)              0         \n",
            "                                                                 \n",
            " dense_1 (Dense)             (None, 32)                262176    \n",
            "                                                                 \n",
            " dropout_11 (Dropout)        (None, 32)                0         \n",
            "                                                                 \n",
            " batch_normalization_9 (Batc  (None, 32)               128       \n",
            " hNormalization)                                                 \n",
            "                                                                 \n",
            " dense_2 (Dense)             (None, 10)                330       \n",
            "                                                                 \n",
            "=================================================================\n",
            "Total params: 393,962\n",
            "Trainable params: 393,322\n",
            "Non-trainable params: 640\n",
            "_________________________________________________________________\n"
          ]
        }
      ]
    },
    {
      "cell_type": "markdown",
      "source": [
        "## Training the model"
      ],
      "metadata": {
        "id": "iAfeRZEZAD-k"
      }
    },
    {
      "cell_type": "markdown",
      "source": [
        "<html><img src=\"https://www.google.com/url?sa=i&url=https%3A%2F%2Flabelyourdata.com%2Farticles%2Fmachine-learning-and-training-data&psig=AOvVaw1zCH_29hclsEdTmBEDSEC7&ust=1693128319357000&source=images&cd=vfe&opi=89978449&ved=0CBAQjRxqFwoTCNjs2NKA-oADFQAAAAAdAAAAABAJ\" alt=\"Image\"></html>"
      ],
      "metadata": {
        "id": "C53oN7X5Loz7"
      }
    },
    {
      "cell_type": "code",
      "source": [
        "# Verify the input data shapes\n",
        "print(x_train_norm.shape)\n",
        "print(y_train_onehot.shape)\n",
        "print(x_test_norm.shape)\n",
        "print(y_test_onehot.shape)\n"
      ],
      "metadata": {
        "colab": {
          "base_uri": "https://localhost:8080/"
        },
        "id": "cljpRgnvFxfv",
        "outputId": "5727b78e-357f-41ec-99e4-ab50f1af914b"
      },
      "execution_count": 32,
      "outputs": [
        {
          "output_type": "stream",
          "name": "stdout",
          "text": [
            "(50000, 32, 32, 3)\n",
            "(50000, 10)\n",
            "(10000, 32, 32, 3)\n",
            "(10000, 10)\n"
          ]
        }
      ]
    },
    {
      "cell_type": "markdown",
      "source": [
        "epoch : I will give it a few rounds of practice\n",
        "batch_size : Give a few to the model"
      ],
      "metadata": {
        "id": "vjUm7w-NAxlO"
      }
    },
    {
      "cell_type": "code",
      "source": [
        "result = model.fit(x_train_norm, y_train_onehot, validation_data =(x_test_norm, y_test_onehot ), epochs= 30 ,batch_size = 64)"
      ],
      "metadata": {
        "colab": {
          "base_uri": "https://localhost:8080/"
        },
        "id": "HTSUUo6RAC2y",
        "outputId": "24f5292d-6a4b-4eeb-e235-2aa3832dd3f3"
      },
      "execution_count": 13,
      "outputs": [
        {
          "output_type": "stream",
          "name": "stdout",
          "text": [
            "Epoch 1/30\n",
            "782/782 [==============================] - 26s 14ms/step - loss: 1.5214 - accuracy: 0.4540 - val_loss: 1.1151 - val_accuracy: 0.6028\n",
            "Epoch 2/30\n",
            "782/782 [==============================] - 11s 15ms/step - loss: 1.0817 - accuracy: 0.6186 - val_loss: 0.9374 - val_accuracy: 0.6703\n",
            "Epoch 3/30\n",
            "782/782 [==============================] - 11s 14ms/step - loss: 0.9245 - accuracy: 0.6762 - val_loss: 0.9145 - val_accuracy: 0.6743\n",
            "Epoch 4/30\n",
            "782/782 [==============================] - 10s 12ms/step - loss: 0.8311 - accuracy: 0.7106 - val_loss: 0.7943 - val_accuracy: 0.7222\n",
            "Epoch 5/30\n",
            "782/782 [==============================] - 10s 12ms/step - loss: 0.7640 - accuracy: 0.7356 - val_loss: 0.8196 - val_accuracy: 0.7127\n",
            "Epoch 6/30\n",
            "782/782 [==============================] - 10s 13ms/step - loss: 0.7140 - accuracy: 0.7522 - val_loss: 0.6275 - val_accuracy: 0.7796\n",
            "Epoch 7/30\n",
            "782/782 [==============================] - 10s 13ms/step - loss: 0.6768 - accuracy: 0.7660 - val_loss: 0.6187 - val_accuracy: 0.7848\n",
            "Epoch 8/30\n",
            "782/782 [==============================] - 10s 13ms/step - loss: 0.6497 - accuracy: 0.7750 - val_loss: 0.6464 - val_accuracy: 0.7807\n",
            "Epoch 9/30\n",
            "782/782 [==============================] - 10s 12ms/step - loss: 0.6200 - accuracy: 0.7844 - val_loss: 0.5946 - val_accuracy: 0.7932\n",
            "Epoch 10/30\n",
            "782/782 [==============================] - 10s 13ms/step - loss: 0.5910 - accuracy: 0.7947 - val_loss: 0.6469 - val_accuracy: 0.7813\n",
            "Epoch 11/30\n",
            "782/782 [==============================] - 10s 13ms/step - loss: 0.5708 - accuracy: 0.8001 - val_loss: 0.5619 - val_accuracy: 0.8054\n",
            "Epoch 12/30\n",
            "782/782 [==============================] - 10s 13ms/step - loss: 0.5529 - accuracy: 0.8076 - val_loss: 0.6659 - val_accuracy: 0.7798\n",
            "Epoch 13/30\n",
            "782/782 [==============================] - 10s 12ms/step - loss: 0.5392 - accuracy: 0.8116 - val_loss: 0.5887 - val_accuracy: 0.7967\n",
            "Epoch 14/30\n",
            "782/782 [==============================] - 10s 12ms/step - loss: 0.5249 - accuracy: 0.8169 - val_loss: 0.5844 - val_accuracy: 0.8034\n",
            "Epoch 15/30\n",
            "782/782 [==============================] - 12s 15ms/step - loss: 0.5109 - accuracy: 0.8193 - val_loss: 0.5939 - val_accuracy: 0.7974\n",
            "Epoch 16/30\n",
            "782/782 [==============================] - 10s 13ms/step - loss: 0.5018 - accuracy: 0.8229 - val_loss: 0.5797 - val_accuracy: 0.8028\n",
            "Epoch 17/30\n",
            "782/782 [==============================] - 15s 19ms/step - loss: 0.4924 - accuracy: 0.8275 - val_loss: 0.5600 - val_accuracy: 0.8118\n",
            "Epoch 18/30\n",
            "782/782 [==============================] - 10s 13ms/step - loss: 0.4767 - accuracy: 0.8324 - val_loss: 0.5371 - val_accuracy: 0.8194\n",
            "Epoch 19/30\n",
            "782/782 [==============================] - 10s 13ms/step - loss: 0.4680 - accuracy: 0.8356 - val_loss: 0.5706 - val_accuracy: 0.8080\n",
            "Epoch 20/30\n",
            "782/782 [==============================] - 10s 12ms/step - loss: 0.4612 - accuracy: 0.8372 - val_loss: 0.5835 - val_accuracy: 0.8043\n",
            "Epoch 21/30\n",
            "782/782 [==============================] - 10s 13ms/step - loss: 0.4533 - accuracy: 0.8413 - val_loss: 0.5628 - val_accuracy: 0.8111\n",
            "Epoch 22/30\n",
            "782/782 [==============================] - 10s 13ms/step - loss: 0.4457 - accuracy: 0.8431 - val_loss: 0.5538 - val_accuracy: 0.8183\n",
            "Epoch 23/30\n",
            "782/782 [==============================] - 10s 13ms/step - loss: 0.4411 - accuracy: 0.8454 - val_loss: 0.5308 - val_accuracy: 0.8219\n",
            "Epoch 24/30\n",
            "782/782 [==============================] - 11s 14ms/step - loss: 0.4228 - accuracy: 0.8501 - val_loss: 0.5807 - val_accuracy: 0.8153\n",
            "Epoch 25/30\n",
            "782/782 [==============================] - 11s 14ms/step - loss: 0.4217 - accuracy: 0.8507 - val_loss: 0.5212 - val_accuracy: 0.8286\n",
            "Epoch 26/30\n",
            "782/782 [==============================] - 10s 12ms/step - loss: 0.4203 - accuracy: 0.8524 - val_loss: 0.5443 - val_accuracy: 0.8197\n",
            "Epoch 27/30\n",
            "782/782 [==============================] - 10s 13ms/step - loss: 0.4085 - accuracy: 0.8544 - val_loss: 0.5614 - val_accuracy: 0.8158\n",
            "Epoch 28/30\n",
            "782/782 [==============================] - 10s 13ms/step - loss: 0.4059 - accuracy: 0.8576 - val_loss: 0.5345 - val_accuracy: 0.8252\n",
            "Epoch 29/30\n",
            "782/782 [==============================] - 11s 14ms/step - loss: 0.4021 - accuracy: 0.8576 - val_loss: 0.5641 - val_accuracy: 0.8159\n",
            "Epoch 30/30\n",
            "782/782 [==============================] - 11s 14ms/step - loss: 0.3934 - accuracy: 0.8601 - val_loss: 0.5549 - val_accuracy: 0.8169\n"
          ]
        }
      ]
    },
    {
      "cell_type": "code",
      "source": [
        "result.history"
      ],
      "metadata": {
        "colab": {
          "base_uri": "https://localhost:8080/"
        },
        "id": "l4UcoBTsPK1S",
        "outputId": "7965f828-9ac8-4934-f9a5-a48fe49c293b"
      },
      "execution_count": 15,
      "outputs": [
        {
          "output_type": "execute_result",
          "data": {
            "text/plain": [
              "{'loss': [1.5213665962219238,\n",
              "  1.0817012786865234,\n",
              "  0.9245383739471436,\n",
              "  0.8311027884483337,\n",
              "  0.7639999389648438,\n",
              "  0.7139579653739929,\n",
              "  0.6768375039100647,\n",
              "  0.6497407555580139,\n",
              "  0.6199946999549866,\n",
              "  0.5909926295280457,\n",
              "  0.570807933807373,\n",
              "  0.552885115146637,\n",
              "  0.5392142534255981,\n",
              "  0.5248939394950867,\n",
              "  0.5108722448348999,\n",
              "  0.5017750859260559,\n",
              "  0.4923848807811737,\n",
              "  0.4767321050167084,\n",
              "  0.46796733140945435,\n",
              "  0.46115827560424805,\n",
              "  0.4532683193683624,\n",
              "  0.4457207918167114,\n",
              "  0.44109106063842773,\n",
              "  0.4228328764438629,\n",
              "  0.4217033088207245,\n",
              "  0.42033055424690247,\n",
              "  0.4085131287574768,\n",
              "  0.4059252440929413,\n",
              "  0.4021224081516266,\n",
              "  0.3933853507041931],\n",
              " 'accuracy': [0.454039990901947,\n",
              "  0.6186400055885315,\n",
              "  0.6762400269508362,\n",
              "  0.7105600237846375,\n",
              "  0.7356399893760681,\n",
              "  0.7521799802780151,\n",
              "  0.765999972820282,\n",
              "  0.7749999761581421,\n",
              "  0.7844399809837341,\n",
              "  0.7947400212287903,\n",
              "  0.800059974193573,\n",
              "  0.8076000213623047,\n",
              "  0.8115599751472473,\n",
              "  0.8169400095939636,\n",
              "  0.8192999958992004,\n",
              "  0.8229399919509888,\n",
              "  0.8274800181388855,\n",
              "  0.8323799967765808,\n",
              "  0.8356199860572815,\n",
              "  0.8371999859809875,\n",
              "  0.8412799835205078,\n",
              "  0.8430600166320801,\n",
              "  0.8454399704933167,\n",
              "  0.8500999808311462,\n",
              "  0.8506600260734558,\n",
              "  0.8524199724197388,\n",
              "  0.8543599843978882,\n",
              "  0.8575800061225891,\n",
              "  0.8576200008392334,\n",
              "  0.8600599765777588],\n",
              " 'val_loss': [1.1150504350662231,\n",
              "  0.9373880624771118,\n",
              "  0.9145101308822632,\n",
              "  0.7942830324172974,\n",
              "  0.8196154236793518,\n",
              "  0.6274834275245667,\n",
              "  0.6186859607696533,\n",
              "  0.6464056372642517,\n",
              "  0.5946062207221985,\n",
              "  0.6468613743782043,\n",
              "  0.5618948340415955,\n",
              "  0.6658947467803955,\n",
              "  0.5887134075164795,\n",
              "  0.5843806862831116,\n",
              "  0.5938506722450256,\n",
              "  0.5797414183616638,\n",
              "  0.5600247979164124,\n",
              "  0.5371335744857788,\n",
              "  0.5705667734146118,\n",
              "  0.5834860801696777,\n",
              "  0.5627551674842834,\n",
              "  0.5538169741630554,\n",
              "  0.5308374762535095,\n",
              "  0.5807023644447327,\n",
              "  0.5212287902832031,\n",
              "  0.5442776083946228,\n",
              "  0.5613884329795837,\n",
              "  0.5345087647438049,\n",
              "  0.5641029477119446,\n",
              "  0.5548552870750427],\n",
              " 'val_accuracy': [0.6028000116348267,\n",
              "  0.6703000068664551,\n",
              "  0.6743000149726868,\n",
              "  0.7221999764442444,\n",
              "  0.7127000093460083,\n",
              "  0.7796000242233276,\n",
              "  0.7847999930381775,\n",
              "  0.7807000279426575,\n",
              "  0.7932000160217285,\n",
              "  0.7813000082969666,\n",
              "  0.805400013923645,\n",
              "  0.7797999978065491,\n",
              "  0.7967000007629395,\n",
              "  0.8033999800682068,\n",
              "  0.7973999977111816,\n",
              "  0.8027999997138977,\n",
              "  0.8118000030517578,\n",
              "  0.8194000124931335,\n",
              "  0.8080000281333923,\n",
              "  0.8043000102043152,\n",
              "  0.8111000061035156,\n",
              "  0.8183000087738037,\n",
              "  0.8219000101089478,\n",
              "  0.8152999877929688,\n",
              "  0.8285999894142151,\n",
              "  0.8197000026702881,\n",
              "  0.8158000111579895,\n",
              "  0.8252000212669373,\n",
              "  0.8159000277519226,\n",
              "  0.8169000148773193]}"
            ]
          },
          "metadata": {},
          "execution_count": 15
        }
      ]
    },
    {
      "cell_type": "code",
      "source": [
        "for key, val in result.history.items():\n",
        "  print(key,\": \" , val)"
      ],
      "metadata": {
        "colab": {
          "base_uri": "https://localhost:8080/"
        },
        "id": "Btl5Du4NPf4h",
        "outputId": "a004c9fb-949e-474b-c906-6b27a61840c4"
      },
      "execution_count": 20,
      "outputs": [
        {
          "output_type": "stream",
          "name": "stdout",
          "text": [
            "loss :  [1.5213665962219238, 1.0817012786865234, 0.9245383739471436, 0.8311027884483337, 0.7639999389648438, 0.7139579653739929, 0.6768375039100647, 0.6497407555580139, 0.6199946999549866, 0.5909926295280457, 0.570807933807373, 0.552885115146637, 0.5392142534255981, 0.5248939394950867, 0.5108722448348999, 0.5017750859260559, 0.4923848807811737, 0.4767321050167084, 0.46796733140945435, 0.46115827560424805, 0.4532683193683624, 0.4457207918167114, 0.44109106063842773, 0.4228328764438629, 0.4217033088207245, 0.42033055424690247, 0.4085131287574768, 0.4059252440929413, 0.4021224081516266, 0.3933853507041931]\n",
            "accuracy :  [0.454039990901947, 0.6186400055885315, 0.6762400269508362, 0.7105600237846375, 0.7356399893760681, 0.7521799802780151, 0.765999972820282, 0.7749999761581421, 0.7844399809837341, 0.7947400212287903, 0.800059974193573, 0.8076000213623047, 0.8115599751472473, 0.8169400095939636, 0.8192999958992004, 0.8229399919509888, 0.8274800181388855, 0.8323799967765808, 0.8356199860572815, 0.8371999859809875, 0.8412799835205078, 0.8430600166320801, 0.8454399704933167, 0.8500999808311462, 0.8506600260734558, 0.8524199724197388, 0.8543599843978882, 0.8575800061225891, 0.8576200008392334, 0.8600599765777588]\n",
            "val_loss :  [1.1150504350662231, 0.9373880624771118, 0.9145101308822632, 0.7942830324172974, 0.8196154236793518, 0.6274834275245667, 0.6186859607696533, 0.6464056372642517, 0.5946062207221985, 0.6468613743782043, 0.5618948340415955, 0.6658947467803955, 0.5887134075164795, 0.5843806862831116, 0.5938506722450256, 0.5797414183616638, 0.5600247979164124, 0.5371335744857788, 0.5705667734146118, 0.5834860801696777, 0.5627551674842834, 0.5538169741630554, 0.5308374762535095, 0.5807023644447327, 0.5212287902832031, 0.5442776083946228, 0.5613884329795837, 0.5345087647438049, 0.5641029477119446, 0.5548552870750427]\n",
            "val_accuracy :  [0.6028000116348267, 0.6703000068664551, 0.6743000149726868, 0.7221999764442444, 0.7127000093460083, 0.7796000242233276, 0.7847999930381775, 0.7807000279426575, 0.7932000160217285, 0.7813000082969666, 0.805400013923645, 0.7797999978065491, 0.7967000007629395, 0.8033999800682068, 0.7973999977111816, 0.8027999997138977, 0.8118000030517578, 0.8194000124931335, 0.8080000281333923, 0.8043000102043152, 0.8111000061035156, 0.8183000087738037, 0.8219000101089478, 0.8152999877929688, 0.8285999894142151, 0.8197000026702881, 0.8158000111579895, 0.8252000212669373, 0.8159000277519226, 0.8169000148773193]\n"
          ]
        }
      ]
    },
    {
      "cell_type": "code",
      "source": [
        "pd.DataFrame(result.history).plot()"
      ],
      "metadata": {
        "colab": {
          "base_uri": "https://localhost:8080/",
          "height": 447
        },
        "id": "7B1n2oSDR0IG",
        "outputId": "3aa36f9a-e404-4fd9-ca8a-0adf58a706bf"
      },
      "execution_count": 22,
      "outputs": [
        {
          "output_type": "execute_result",
          "data": {
            "text/plain": [
              "<Axes: >"
            ]
          },
          "metadata": {},
          "execution_count": 22
        },
        {
          "output_type": "display_data",
          "data": {
            "text/plain": [
              "<Figure size 640x480 with 1 Axes>"
            ],
            "image/png": "[encoded data removed]"
          },
          "metadata": {}
        }
      ]
    },
    {
      "cell_type": "markdown",
      "source": [
        "Fix Overfitting:\n",
        "1. Use more data : If we don't have more data, we can use 'data augmentation'\n",
        "2. Droup Out:We turn off a few neurons randomly so that the remaining neurons don't get lazy and learn. Next time, it turns off a few more neurons.\n",
        "3. Batch Normalization : The output of each layer is first normalized before entering the next layer"
      ],
      "metadata": {
        "id": "HbtnURlSTUIh"
      }
    },
    {
      "cell_type": "code",
      "source": [
        "model.save('CNN_cifar10.h5_1')"
      ],
      "metadata": {
        "colab": {
          "base_uri": "https://localhost:8080/"
        },
        "id": "5h8vBE3NTyov",
        "outputId": "dc164773-3f73-45cc-ce8c-42c553b86b35"
      },
      "execution_count": 23,
      "outputs": [
        {
          "output_type": "stream",
          "name": "stderr",
          "text": [
            "WARNING:absl:Found untraced functions such as _jit_compiled_convolution_op, _jit_compiled_convolution_op, _jit_compiled_convolution_op, _jit_compiled_convolution_op while saving (showing 4 of 4). These functions will not be directly callable after loading.\n"
          ]
        }
      ]
    },
    {
      "cell_type": "code",
      "source": [
        "my_model = load_model('CNN_cifar10.h5_1')"
      ],
      "metadata": {
        "id": "s0XYGyCIWDYf"
      },
      "execution_count": 25,
      "outputs": []
    },
    {
      "cell_type": "code",
      "source": [
        "image_1 = my_model.predict(x_test_norm[0:20])[1]"
      ],
      "metadata": {
        "colab": {
          "base_uri": "https://localhost:8080/"
        },
        "id": "kB-gL58JWZwQ",
        "outputId": "bafa0b80-2191-472b-f1d4-1cfcf1b72052"
      },
      "execution_count": 39,
      "outputs": [
        {
          "output_type": "stream",
          "name": "stdout",
          "text": [
            "1/1 [==============================] - 0s 19ms/step\n"
          ]
        }
      ]
    },
    {
      "cell_type": "code",
      "source": [
        "image_1"
      ],
      "metadata": {
        "colab": {
          "base_uri": "https://localhost:8080/"
        },
        "id": "hZbWEzI3Ww91",
        "outputId": "8565046c-6b90-4bb7-cfef-73152e9299f3"
      },
      "execution_count": 40,
      "outputs": [
        {
          "output_type": "execute_result",
          "data": {
            "text/plain": [
              "array([8.7295091e-03, 2.0037033e-01, 1.0000764e-07, 1.8676840e-08,\n",
              "       8.0657552e-09, 1.3805094e-09, 2.3083016e-08, 1.6685187e-09,\n",
              "       7.9089522e-01, 4.8533329e-06], dtype=float32)"
            ]
          },
          "metadata": {},
          "execution_count": 40
        }
      ]
    },
    {
      "cell_type": "code",
      "source": [
        "y_test_onehot[1]"
      ],
      "metadata": {
        "colab": {
          "base_uri": "https://localhost:8080/"
        },
        "id": "ATpHGAdbW22O",
        "outputId": "20b9495e-b877-4222-bb98-ab7a496199af"
      },
      "execution_count": 38,
      "outputs": [
        {
          "output_type": "execute_result",
          "data": {
            "text/plain": [
              "array([0., 0., 0., 0., 0., 0., 0., 0., 1., 0.], dtype=float32)"
            ]
          },
          "metadata": {},
          "execution_count": 38
        }
      ]
    },
    {
      "cell_type": "code",
      "source": [
        "predictions = model.predict(x_test_norm)\n",
        "print(predictions.shape)\n",
        "predictions = np.argmax(predictions, axis = 1)\n",
        "print(predictions)"
      ],
      "metadata": {
        "colab": {
          "base_uri": "https://localhost:8080/"
        },
        "id": "6RntkPYeXnHI",
        "outputId": "077b8b9c-169c-4901-db10-0e1fddf6f298"
      },
      "execution_count": 42,
      "outputs": [
        {
          "output_type": "stream",
          "name": "stdout",
          "text": [
            "313/313 [==============================] - 1s 3ms/step\n",
            "(10000, 10)\n",
            "[3 8 8 ... 5 1 7]\n"
          ]
        }
      ]
    },
    {
      "cell_type": "code",
      "source": [
        "labels = ['airplane', 'automobile', 'bird', 'cat', 'deer', 'dog', 'frog', 'horse', 'ship', 'truck']"
      ],
      "metadata": {
        "id": "GH10Zq65Yx1z"
      },
      "execution_count": 48,
      "outputs": []
    },
    {
      "cell_type": "code",
      "source": [
        "# Predicting test data\n",
        "predictions = model.predict(x_test_norm)\n",
        "\n",
        "predictions = np.argmax(predictions, axis = 1)\n",
        "\n",
        "#y_test = np.argmax(y_test, axis = 1)\n",
        "\n",
        "\n",
        "# Creating confusion matrix\n",
        "cm = confusion_matrix(y_test, predictions)\n",
        "\n",
        "plt.figure(figsize=(9,9))\n",
        "sns.heatmap(cm, cbar=False, xticklabels=labels, yticklabels=labels, fmt='d', annot=True, cmap=plt.cm.Blues)\n",
        "plt.xlabel('Predicted')\n",
        "plt.ylabel('Actual')\n",
        "plt.show()"
      ],
      "metadata": {
        "colab": {
          "base_uri": "https://localhost:8080/",
          "height": 870
        },
        "id": "Y2EA8zZ0YEYE",
        "outputId": "626c970b-134a-4752-8dd6-24466496e56e"
      },
      "execution_count": 49,
      "outputs": [
        {
          "output_type": "stream",
          "name": "stdout",
          "text": [
            "313/313 [==============================] - 1s 3ms/step\n"
          ]
        },
        {
          "output_type": "display_data",
          "data": {
            "text/plain": [
              "<Figure size 900x900 with 1 Axes>"
            ],
            "image/png": "[encoded data removed]"
          },
          "metadata": {}
        }
      ]
    }
  ]
}