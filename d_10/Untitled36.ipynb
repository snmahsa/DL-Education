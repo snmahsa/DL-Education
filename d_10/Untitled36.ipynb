{
  "nbformat": 4,
  "nbformat_minor": 0,
  "metadata": {
    "colab": {
      "provenance": []
    },
    "kernelspec": {
      "name": "python3",
      "display_name": "Python 3"
    },
    "language_info": {
      "name": "python"
    },
    "accelerator": "TPU"
  },
  "cells": [
    {
      "cell_type": "code",
      "execution_count": 1,
      "metadata": {
        "id": "W0T5E2od0caL",
        "colab": {
          "base_uri": "https://localhost:8080/"
        },
        "outputId": "5527c22b-0b31-4a5a-a890-609c8b51dbb5"
      },
      "outputs": [
        {
          "output_type": "stream",
          "name": "stdout",
          "text": [
            "Mounted at /content/drive\n"
          ]
        }
      ],
      "source": [
        "from google.colab import drive\n",
        "drive.mount('/content/drive')"
      ]
    },
    {
      "cell_type": "code",
      "source": [
        "import pandas as pd\n",
        "import numpy as np\n",
        "import cv2\n",
        "import glob"
      ],
      "metadata": {
        "id": "GhPiXfYUjMlP"
      },
      "execution_count": 2,
      "outputs": []
    },
    {
      "cell_type": "code",
      "source": [
        "from sklearn.model_selection import train_test_split\n",
        "from sklearn.neighbors import KNeighborsClassifier\n",
        "from sklearn.metrics import accuracy_score"
      ],
      "metadata": {
        "id": "pgxlb_73llMD"
      },
      "execution_count": 3,
      "outputs": []
    },
    {
      "cell_type": "code",
      "source": [
        "from sklearn.preprocessing import LabelEncoder\n",
        "from tensorflow.keras import models,layers\n",
        "from tensorflow.keras.utils import to_categorical\n",
        ""
      ],
      "metadata": {
        "id": "GAQYGmrOdvIQ"
      },
      "execution_count": 4,
      "outputs": []
    },
    {
      "cell_type": "code",
      "source": [
        "from joblib import dump"
      ],
      "metadata": {
        "id": "gevaol1mlnOW"
      },
      "execution_count": 5,
      "outputs": []
    },
    {
      "cell_type": "code",
      "source": [
        "import matplotlib.pyplot as plt\n",
        "plt.style.use(\"ggplot\")\n",
        ""
      ],
      "metadata": {
        "id": "bv35sAhud2Yp"
      },
      "execution_count": 6,
      "outputs": []
    },
    {
      "cell_type": "markdown",
      "source": [
        "#Add Dataset"
      ],
      "metadata": {
        "id": "vR5uP0M7MO7P"
      }
    },
    {
      "cell_type": "code",
      "source": [
        "%%capture\n",
        "!pip install kaggle"
      ],
      "metadata": {
        "id": "ZMl6lkbkjfUa"
      },
      "execution_count": 7,
      "outputs": []
    },
    {
      "cell_type": "code",
      "source": [
        "import os\n",
        "os.environ['KAGGLE_CONFIG_DIR'] = '/content/drive/MyDrive/DeepLearning/CatDog/Kaggle'"
      ],
      "metadata": {
        "id": "A3Xb8gEBjh5w"
      },
      "execution_count": 8,
      "outputs": []
    },
    {
      "cell_type": "code",
      "source": [
        "%cd /content/drive/MyDrive/DeepLearning/CatDog/Kaggle"
      ],
      "metadata": {
        "colab": {
          "base_uri": "https://localhost:8080/"
        },
        "id": "vVfZiG9KjzoY",
        "outputId": "5f7b1251-10e8-4f64-b94c-af7f7b698cb4"
      },
      "execution_count": 9,
      "outputs": [
        {
          "output_type": "stream",
          "name": "stdout",
          "text": [
            "/content/drive/MyDrive/DeepLearning/CatDog/Kaggle\n"
          ]
        }
      ]
    },
    {
      "cell_type": "code",
      "source": [
        "!pwd"
      ],
      "metadata": {
        "colab": {
          "base_uri": "https://localhost:8080/"
        },
        "id": "SghNJVRUkoyl",
        "outputId": "a278ca90-a373-4671-a37c-ee45580bd0de"
      },
      "execution_count": 10,
      "outputs": [
        {
          "output_type": "stream",
          "name": "stdout",
          "text": [
            "/content/drive/MyDrive/DeepLearning/CatDog/Kaggle\n"
          ]
        }
      ]
    },
    {
      "cell_type": "code",
      "source": [
        "!kaggle datasets download -d tongpython/cat-and-dog"
      ],
      "metadata": {
        "colab": {
          "base_uri": "https://localhost:8080/"
        },
        "id": "ck_cLSPuj4y6",
        "outputId": "29d11c1e-2ddc-4674-8233-4d7183f99e8e"
      },
      "execution_count": 11,
      "outputs": [
        {
          "output_type": "stream",
          "name": "stdout",
          "text": [
            "cat-and-dog.zip: Skipping, found more recently modified local copy (use --force to force download)\n"
          ]
        }
      ]
    },
    {
      "cell_type": "code",
      "source": [
        "%%capture\n",
        "!unzip /content/drive/MyDrive/DeepLearning/CatDog/Kaggle/cat-and-dog.zip -d /content/drive/MyDrive/DeepLearning/CatDog/Dataset"
      ],
      "metadata": {
        "id": "eWbW-d-fkD5C"
      },
      "execution_count": null,
      "outputs": []
    },
    {
      "cell_type": "markdown",
      "source": [
        "#KNN"
      ],
      "metadata": {
        "id": "R7p3t74VlrO1"
      }
    },
    {
      "cell_type": "code",
      "source": [
        "feature_vectors = []\n",
        "labels = []"
      ],
      "metadata": {
        "id": "BEPmRGsgltWQ"
      },
      "execution_count": null,
      "outputs": []
    },
    {
      "cell_type": "code",
      "source": [
        "def get_label(address):\n",
        "  label = address.split(\"/\")[-2]\n",
        "  labels.append(label)"
      ],
      "metadata": {
        "id": "-tSd2b4IMxKU"
      },
      "execution_count": null,
      "outputs": []
    },
    {
      "cell_type": "code",
      "source": [
        "#Import Dataset\n",
        "for i,address in enumerate(glob.glob('/content/drive/MyDrive/DeepLearning/CatDog/Dataset/training_set/training_set/*/**')):\n",
        "  #Read Image\n",
        "  img = cv2.imread(address)\n",
        "  # Check if the image is loaded successfully\n",
        "  if img is not None:\n",
        "      # Resize image\n",
        "      img = cv2.resize(img ,(32,32))\n",
        "      # Normalize image\n",
        "      img = img/255.0\n",
        "      #Flat\n",
        "      img = img.flatten()\n",
        "      #append\n",
        "      feature_vectors.append(img)\n",
        "      #Give label\n",
        "      get_label(address)\n",
        "  else:\n",
        "      print(\"Failed to load the image:\", address)\n",
        "\n",
        "  if i % 100 == 0 :\n",
        "    print(f\"Info :{i+1} processed\")\n",
        "print(f\"Finished\")"
      ],
      "metadata": {
        "id": "Vcot4CuFNdyJ"
      },
      "execution_count": null,
      "outputs": []
    },
    {
      "cell_type": "code",
      "source": [
        "#Convert to numpy\n",
        "np_feature_vectors = np.array(feature_vectors)"
      ],
      "metadata": {
        "id": "9rzkcV--O1Oa"
      },
      "execution_count": null,
      "outputs": []
    },
    {
      "cell_type": "code",
      "source": [
        "#Split\n",
        "x_train, x_test, y_train, y_test =train_test_split(np_feature_vectors, labels, test_size=0.2,random_state=42)"
      ],
      "metadata": {
        "id": "nLQ_kiDTPF_p"
      },
      "execution_count": null,
      "outputs": []
    },
    {
      "cell_type": "code",
      "source": [
        "#Model\n",
        "model = KNeighborsClassifier()\n",
        "model.fit(x_train, y_train)"
      ],
      "metadata": {
        "id": "-zouYpn0PJdJ"
      },
      "execution_count": null,
      "outputs": []
    },
    {
      "cell_type": "code",
      "source": [
        "#Prediction\n",
        "accuracy = model.score(x_test, y_test)\n",
        "accuracy"
      ],
      "metadata": {
        "id": "hDNvsYnJPLgd"
      },
      "execution_count": null,
      "outputs": []
    },
    {
      "cell_type": "code",
      "source": [
        "#Prediction\n",
        "y_pred = model.predict(x_test)\n",
        "accuracy = accuracy_score(y_test, y_pred)\n",
        "accuracy"
      ],
      "metadata": {
        "id": "WIDeqeqUPN3e"
      },
      "execution_count": null,
      "outputs": []
    },
    {
      "cell_type": "markdown",
      "source": [
        "#MLP"
      ],
      "metadata": {
        "id": "lCG1dsZxluIx"
      }
    },
    {
      "cell_type": "code",
      "source": [
        "column = x_train.shape[1]\n",
        "column"
      ],
      "metadata": {
        "id": "u_xIdJF_fo7p"
      },
      "execution_count": null,
      "outputs": []
    },
    {
      "cell_type": "code",
      "source": [
        "\n",
        "# Assuming 'target' is the name of the target variable column in your dataset\n",
        "target = labels\n",
        "\n",
        "# Create an instance of LabelEncoder\n",
        "label_encoder = LabelEncoder()\n",
        "\n",
        "# Fit the label encoder to the target variable\n",
        "label_encoder.fit(target)\n",
        "\n",
        "# Transform the target variable using label encoding\n",
        "encoded_labels = label_encoder.transform(target)"
      ],
      "metadata": {
        "id": "FiZEx8Ljo5u2"
      },
      "execution_count": null,
      "outputs": []
    },
    {
      "cell_type": "code",
      "source": [
        "\n",
        "encoded_labels"
      ],
      "metadata": {
        "id": "SP8yn3zxeCsM"
      },
      "execution_count": null,
      "outputs": []
    },
    {
      "cell_type": "code",
      "source": [
        "categ_labels = to_categorical(encoded_labels)"
      ],
      "metadata": {
        "id": "45BVaGL1eFod"
      },
      "execution_count": null,
      "outputs": []
    },
    {
      "cell_type": "code",
      "source": [
        "categ_labels"
      ],
      "metadata": {
        "id": "mFOWP8LxeM8b"
      },
      "execution_count": null,
      "outputs": []
    },
    {
      "cell_type": "code",
      "source": [
        "#Split\n",
        "x_train, x_test, y_train, y_test =train_test_split(np_feature_vectors, categ_labels, test_size=0.2,random_state=42)\n",
        ""
      ],
      "metadata": {
        "id": "e5FbOBf8jOeS"
      },
      "execution_count": null,
      "outputs": []
    },
    {
      "cell_type": "code",
      "source": [
        "#Model\n",
        "model = models.Sequential()\n",
        "model.add(layers.Dense(700, activation = 'relu',input_dim =column))\n",
        "model.add(layers.Dense(100, activation = 'relu'))\n",
        "model.add(layers.Dense(50, activation = 'relu'))\n",
        "model.add(layers.Dense(25, activation = 'relu'))\n",
        "model.add(layers.Dense(2, activation = 'softmax'))\n"
      ],
      "metadata": {
        "id": "49jDGpqMeSxx"
      },
      "execution_count": null,
      "outputs": []
    },
    {
      "cell_type": "code",
      "source": [
        "model.compile(loss='categorical_crossentropy', optimizer = 'adam' , metrics = ['accuracy'])\n"
      ],
      "metadata": {
        "id": "1sN2V2mReX1f"
      },
      "execution_count": null,
      "outputs": []
    },
    {
      "cell_type": "code",
      "source": [
        "model.summary()\n",
        ""
      ],
      "metadata": {
        "id": "Z1B1mU0febqi"
      },
      "execution_count": null,
      "outputs": []
    },
    {
      "cell_type": "code",
      "source": [
        "result = model.fit(x_train, y_train, validation_data =(x_test, y_test ), epochs= 20 ,batch_size=32)"
      ],
      "metadata": {
        "id": "bkMSyPnfef5q"
      },
      "execution_count": null,
      "outputs": []
    },
    {
      "cell_type": "code",
      "source": [
        "pd.DataFrame(result.history).plot()\n",
        ""
      ],
      "metadata": {
        "id": "3u8YEHPreo8o"
      },
      "execution_count": null,
      "outputs": []
    }
  ]
}