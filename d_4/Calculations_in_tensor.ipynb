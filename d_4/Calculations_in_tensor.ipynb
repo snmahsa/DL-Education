{
  "nbformat": 4,
  "nbformat_minor": 0,
  "metadata": {
    "colab": {
      "provenance": []
    },
    "kernelspec": {
      "name": "python3",
      "display_name": "Python 3"
    },
    "language_info": {
      "name": "python"
    }
  },
  "cells": [
    {
      "cell_type": "code",
      "execution_count": 1,
      "metadata": {
        "id": "UYqWhEtRj1Jg"
      },
      "outputs": [],
      "source": [
        "import torch"
      ]
    },
    {
      "cell_type": "code",
      "source": [
        "#Creat tensor\n",
        "tensor = torch.rand(4,5)"
      ],
      "metadata": {
        "id": "nZsATiupku0_"
      },
      "execution_count": 23,
      "outputs": []
    },
    {
      "cell_type": "code",
      "source": [
        "#Show\n",
        "tensor"
      ],
      "metadata": {
        "colab": {
          "base_uri": "https://localhost:8080/"
        },
        "id": "Pu1k2cwjk2vG",
        "outputId": "bbad1500-6927-42b8-f8bb-be4a6c61ef9a"
      },
      "execution_count": 8,
      "outputs": [
        {
          "output_type": "execute_result",
          "data": {
            "text/plain": [
              "tensor([[-1.3991, -1.3593, -1.7936, -1.3701, -1.4981],\n",
              "        [-1.2056, -1.7252, -1.6969, -1.2919, -1.1024],\n",
              "        [-1.8998, -1.9488, -1.1077, -1.1085, -1.9987],\n",
              "        [-1.5688, -1.0782, -1.5648, -1.0120, -1.4180]])"
            ]
          },
          "metadata": {},
          "execution_count": 8
        }
      ]
    },
    {
      "cell_type": "code",
      "source": [
        "#Info\n",
        "print(tensor)\n",
        "print(f\"shape : {tensor.shape}\")\n",
        "print(f\"datatype : {tensor.dtype}\")\n",
        "print(f\"device : {tensor.device}\")"
      ],
      "metadata": {
        "colab": {
          "base_uri": "https://localhost:8080/"
        },
        "id": "FNiyA_Kck655",
        "outputId": "02dffe1e-ea3a-4b18-8f90-0e0f034b9e8a"
      },
      "execution_count": 4,
      "outputs": [
        {
          "output_type": "stream",
          "name": "stdout",
          "text": [
            "tensor([[0.6009, 0.6407, 0.2064, 0.6299, 0.5019],\n",
            "        [0.7944, 0.2748, 0.3031, 0.7081, 0.8976],\n",
            "        [0.1002, 0.0512, 0.8923, 0.8915, 0.0013],\n",
            "        [0.4312, 0.9218, 0.4352, 0.9880, 0.5820]])\n",
            "shape : torch.Size([4, 5])\n",
            "datatype : torch.float32\n",
            "device : cpu\n"
          ]
        }
      ]
    },
    {
      "cell_type": "code",
      "source": [
        "#Addition with numbers\n",
        "tensorr = tensor + 12\n",
        "tensor"
      ],
      "metadata": {
        "colab": {
          "base_uri": "https://localhost:8080/"
        },
        "id": "Qc2iryoQlVIq",
        "outputId": "9080cc40-f8c0-4dcd-e60f-4c126466cf71"
      },
      "execution_count": 9,
      "outputs": [
        {
          "output_type": "execute_result",
          "data": {
            "text/plain": [
              "tensor([[-1.3991, -1.3593, -1.7936, -1.3701, -1.4981],\n",
              "        [-1.2056, -1.7252, -1.6969, -1.2919, -1.1024],\n",
              "        [-1.8998, -1.9488, -1.1077, -1.1085, -1.9987],\n",
              "        [-1.5688, -1.0782, -1.5648, -1.0120, -1.4180]])"
            ]
          },
          "metadata": {},
          "execution_count": 9
        }
      ]
    },
    {
      "cell_type": "code",
      "source": [
        "#Divide by number\n",
        "tensor = tensor - 2\n",
        "tensor"
      ],
      "metadata": {
        "colab": {
          "base_uri": "https://localhost:8080/"
        },
        "id": "zjhLXWPbl2hp",
        "outputId": "ef3b64cd-2b00-466a-b1a0-ae67dd57d390"
      },
      "execution_count": 10,
      "outputs": [
        {
          "output_type": "execute_result",
          "data": {
            "text/plain": [
              "tensor([[-3.3991, -3.3593, -3.7936, -3.3701, -3.4981],\n",
              "        [-3.2056, -3.7252, -3.6969, -3.2919, -3.1024],\n",
              "        [-3.8998, -3.9488, -3.1077, -3.1085, -3.9987],\n",
              "        [-3.5688, -3.0782, -3.5648, -3.0120, -3.4180]])"
            ]
          },
          "metadata": {},
          "execution_count": 10
        }
      ]
    },
    {
      "cell_type": "code",
      "source": [
        "#Multiply by number\n",
        "tensor * 3"
      ],
      "metadata": {
        "colab": {
          "base_uri": "https://localhost:8080/"
        },
        "id": "0vBNX2g0mFZO",
        "outputId": "69cc3e4a-66e2-4a13-f853-bda6fd5482a5"
      },
      "execution_count": 11,
      "outputs": [
        {
          "output_type": "execute_result",
          "data": {
            "text/plain": [
              "tensor([[-10.1974, -10.0780, -11.3807, -10.1104, -10.4944],\n",
              "        [ -9.6169, -11.1756, -11.0907,  -9.8758,  -9.3073],\n",
              "        [-11.6995, -11.8465,  -9.3232,  -9.3254, -11.9961],\n",
              "        [-10.7064,  -9.2346, -10.6944,  -9.0360, -10.2539]])"
            ]
          },
          "metadata": {},
          "execution_count": 11
        }
      ]
    },
    {
      "cell_type": "code",
      "source": [
        "#Multiply by number\n",
        "torch.multiply(tensor ,3)"
      ],
      "metadata": {
        "colab": {
          "base_uri": "https://localhost:8080/"
        },
        "id": "fOI_Y2XxmIua",
        "outputId": "78bcfefd-8991-4f27-83e5-d6c40acca0d4"
      },
      "execution_count": 12,
      "outputs": [
        {
          "output_type": "execute_result",
          "data": {
            "text/plain": [
              "tensor([[-10.1974, -10.0780, -11.3807, -10.1104, -10.4944],\n",
              "        [ -9.6169, -11.1756, -11.0907,  -9.8758,  -9.3073],\n",
              "        [-11.6995, -11.8465,  -9.3232,  -9.3254, -11.9961],\n",
              "        [-10.7064,  -9.2346, -10.6944,  -9.0360, -10.2539]])"
            ]
          },
          "metadata": {},
          "execution_count": 12
        }
      ]
    },
    {
      "cell_type": "code",
      "source": [
        "torch.add(tensor,2)"
      ],
      "metadata": {
        "colab": {
          "base_uri": "https://localhost:8080/"
        },
        "id": "PKBqjjxFmZbR",
        "outputId": "57fc7528-168b-488e-8249-1bd4112f614a"
      },
      "execution_count": 13,
      "outputs": [
        {
          "output_type": "execute_result",
          "data": {
            "text/plain": [
              "tensor([[-1.3991, -1.3593, -1.7936, -1.3701, -1.4981],\n",
              "        [-1.2056, -1.7252, -1.6969, -1.2919, -1.1024],\n",
              "        [-1.8998, -1.9488, -1.1077, -1.1085, -1.9987],\n",
              "        [-1.5688, -1.0782, -1.5648, -1.0120, -1.4180]])"
            ]
          },
          "metadata": {},
          "execution_count": 13
        }
      ]
    },
    {
      "cell_type": "code",
      "source": [
        "tensor_1 =torch.rand(3,2)\n",
        "tensor_2 = torch.rand(2,4)"
      ],
      "metadata": {
        "id": "LTE7tOnMogKT"
      },
      "execution_count": 19,
      "outputs": []
    },
    {
      "cell_type": "code",
      "source": [
        "#Multiply by tensor\n",
        "torch.matmul(tensor_1,tensor_2)"
      ],
      "metadata": {
        "colab": {
          "base_uri": "https://localhost:8080/"
        },
        "id": "hfBi4Myemdj6",
        "outputId": "b12f0d17-3c0d-4e6b-e057-820ab7c94f1b"
      },
      "execution_count": 21,
      "outputs": [
        {
          "output_type": "execute_result",
          "data": {
            "text/plain": [
              "tensor([[0.2942, 0.2039, 0.3863, 0.1335],\n",
              "        [0.7244, 0.5582, 0.8638, 0.3078],\n",
              "        [0.5814, 0.4055, 0.7598, 0.2630]])"
            ]
          },
          "metadata": {},
          "execution_count": 21
        }
      ]
    },
    {
      "cell_type": "code",
      "source": [
        "torch.mm(tensor_1 , tensor_2)"
      ],
      "metadata": {
        "colab": {
          "base_uri": "https://localhost:8080/"
        },
        "id": "HLAec8oXsPph",
        "outputId": "a5d92cc9-d900-4d60-c31d-2cea736bba34"
      },
      "execution_count": 34,
      "outputs": [
        {
          "output_type": "execute_result",
          "data": {
            "text/plain": [
              "tensor([[0.2942, 0.2039, 0.3863, 0.1335],\n",
              "        [0.7244, 0.5582, 0.8638, 0.3078],\n",
              "        [0.5814, 0.4055, 0.7598, 0.2630]])"
            ]
          },
          "metadata": {},
          "execution_count": 34
        }
      ]
    },
    {
      "cell_type": "code",
      "source": [
        "tensor_1 @ tensor_2"
      ],
      "metadata": {
        "colab": {
          "base_uri": "https://localhost:8080/"
        },
        "id": "HZ-zzNM5p2AG",
        "outputId": "f9db640a-db77-45a1-bba1-79a4b9bb2d85"
      },
      "execution_count": 33,
      "outputs": [
        {
          "output_type": "execute_result",
          "data": {
            "text/plain": [
              "tensor([[0.2942, 0.2039, 0.3863, 0.1335],\n",
              "        [0.7244, 0.5582, 0.8638, 0.3078],\n",
              "        [0.5814, 0.4055, 0.7598, 0.2630]])"
            ]
          },
          "metadata": {},
          "execution_count": 33
        }
      ]
    },
    {
      "cell_type": "code",
      "source": [
        "#Creat tensor\n",
        "x = torch.rand(2,3)"
      ],
      "metadata": {
        "id": "BV1nEeaxrRQS"
      },
      "execution_count": 24,
      "outputs": []
    },
    {
      "cell_type": "code",
      "source": [
        "x"
      ],
      "metadata": {
        "colab": {
          "base_uri": "https://localhost:8080/"
        },
        "id": "-XHX06e_rXiq",
        "outputId": "9e3ed681-bf99-44be-e912-12d7930dedd1"
      },
      "execution_count": 26,
      "outputs": [
        {
          "output_type": "execute_result",
          "data": {
            "text/plain": [
              "tensor([[0.3368, 0.2526, 0.9023],\n",
              "        [0.2512, 0.5753, 0.4237]])"
            ]
          },
          "metadata": {},
          "execution_count": 26
        }
      ]
    },
    {
      "cell_type": "code",
      "source": [
        "# x is tensor, 0 is first dimention, 1 is second dimention\n",
        "\n",
        "torch.transpose(x,0,1)"
      ],
      "metadata": {
        "colab": {
          "base_uri": "https://localhost:8080/"
        },
        "id": "f_-6WT74rA-P",
        "outputId": "4ebc8d7a-90c4-4b36-aada-89e051b60f0d"
      },
      "execution_count": 25,
      "outputs": [
        {
          "output_type": "execute_result",
          "data": {
            "text/plain": [
              "tensor([[0.3368, 0.2512],\n",
              "        [0.2526, 0.5753],\n",
              "        [0.9023, 0.4237]])"
            ]
          },
          "metadata": {},
          "execution_count": 25
        }
      ]
    },
    {
      "cell_type": "code",
      "source": [
        "x.T"
      ],
      "metadata": {
        "colab": {
          "base_uri": "https://localhost:8080/"
        },
        "id": "ybgqSZqerfqP",
        "outputId": "33210166-95f8-4eb4-e0e0-a48948908ece"
      },
      "execution_count": 27,
      "outputs": [
        {
          "output_type": "execute_result",
          "data": {
            "text/plain": [
              "tensor([[0.3368, 0.2512],\n",
              "        [0.2526, 0.5753],\n",
              "        [0.9023, 0.4237]])"
            ]
          },
          "metadata": {},
          "execution_count": 27
        }
      ]
    },
    {
      "cell_type": "code",
      "source": [
        "torch.t(x)"
      ],
      "metadata": {
        "colab": {
          "base_uri": "https://localhost:8080/"
        },
        "id": "JKWDgkhtrmgt",
        "outputId": "b8116e09-850d-4102-f8fa-88a61223ad9b"
      },
      "execution_count": 28,
      "outputs": [
        {
          "output_type": "execute_result",
          "data": {
            "text/plain": [
              "tensor([[0.3368, 0.2512],\n",
              "        [0.2526, 0.5753],\n",
              "        [0.9023, 0.4237]])"
            ]
          },
          "metadata": {},
          "execution_count": 28
        }
      ]
    },
    {
      "cell_type": "code",
      "source": [
        "#Creat tensors\n",
        "tensor_3 = torch.rand(2,5)\n",
        "tensor_4 = torch.rand(2,4)"
      ],
      "metadata": {
        "id": "6BaNmSovruo_"
      },
      "execution_count": 31,
      "outputs": []
    },
    {
      "cell_type": "code",
      "source": [
        "tensor_3.T @ tensor_4"
      ],
      "metadata": {
        "colab": {
          "base_uri": "https://localhost:8080/"
        },
        "id": "lW9Bci8Kr1_W",
        "outputId": "fef650c3-c600-49c3-d81f-5472c5c9f5b0"
      },
      "execution_count": 32,
      "outputs": [
        {
          "output_type": "execute_result",
          "data": {
            "text/plain": [
              "tensor([[0.8450, 0.6724, 0.1911, 0.7099],\n",
              "        [0.3629, 0.7531, 0.3252, 0.3232],\n",
              "        [1.0977, 1.0764, 0.3544, 0.9302],\n",
              "        [1.0302, 0.9224, 0.2867, 0.8695],\n",
              "        [0.3186, 0.3331, 0.1137, 0.2708]])"
            ]
          },
          "metadata": {},
          "execution_count": 32
        }
      ]
    }
  ]
}