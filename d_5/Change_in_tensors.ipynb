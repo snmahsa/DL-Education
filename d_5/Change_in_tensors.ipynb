{
  "nbformat": 4,
  "nbformat_minor": 0,
  "metadata": {
    "colab": {
      "provenance": []
    },
    "kernelspec": {
      "name": "python3",
      "display_name": "Python 3"
    },
    "language_info": {
      "name": "python"
    }
  },
  "cells": [
    {
      "cell_type": "code",
      "execution_count": 40,
      "metadata": {
        "id": "AQPDfZ_yxCr6"
      },
      "outputs": [],
      "source": [
        "import torch"
      ]
    },
    {
      "cell_type": "code",
      "source": [
        "#Creat tensor\n",
        "x = torch.arange(0,100,10)\n",
        "x"
      ],
      "metadata": {
        "colab": {
          "base_uri": "https://localhost:8080/"
        },
        "id": "YZIdWcV-xeVt",
        "outputId": "442ffbde-3035-4d5f-8f3a-2e5bce85a888"
      },
      "execution_count": 41,
      "outputs": [
        {
          "output_type": "execute_result",
          "data": {
            "text/plain": [
              "tensor([ 0, 10, 20, 30, 40, 50, 60, 70, 80, 90])"
            ]
          },
          "metadata": {},
          "execution_count": 41
        }
      ]
    },
    {
      "cell_type": "code",
      "source": [
        "y = torch.arange(0,100. , 4) #(0, 100, 4, dtype=torch.float32)\n",
        "y"
      ],
      "metadata": {
        "colab": {
          "base_uri": "https://localhost:8080/"
        },
        "id": "91M2JqFV1jz7",
        "outputId": "71d6b5ed-8598-4976-bda0-383bd16be035"
      },
      "execution_count": 42,
      "outputs": [
        {
          "output_type": "execute_result",
          "data": {
            "text/plain": [
              "tensor([ 0.,  4.,  8., 12., 16., 20., 24., 28., 32., 36., 40., 44., 48., 52.,\n",
              "        56., 60., 64., 68., 72., 76., 80., 84., 88., 92., 96.])"
            ]
          },
          "metadata": {},
          "execution_count": 42
        }
      ]
    },
    {
      "cell_type": "code",
      "source": [
        "#return max\n",
        "x.max"
      ],
      "metadata": {
        "colab": {
          "base_uri": "https://localhost:8080/"
        },
        "id": "u1btSuTGxmWx",
        "outputId": "0789f225-d662-47a5-c1ec-2e9a510e36f6"
      },
      "execution_count": 43,
      "outputs": [
        {
          "output_type": "execute_result",
          "data": {
            "text/plain": [
              "<function Tensor.max>"
            ]
          },
          "metadata": {},
          "execution_count": 43
        }
      ]
    },
    {
      "cell_type": "code",
      "source": [
        "#return min\n",
        "x.min"
      ],
      "metadata": {
        "colab": {
          "base_uri": "https://localhost:8080/"
        },
        "id": "gLRO2-0Rxsz7",
        "outputId": "b8204377-7916-496a-f523-ec8a88592634"
      },
      "execution_count": 44,
      "outputs": [
        {
          "output_type": "execute_result",
          "data": {
            "text/plain": [
              "<function Tensor.min>"
            ]
          },
          "metadata": {},
          "execution_count": 44
        }
      ]
    },
    {
      "cell_type": "code",
      "source": [
        "#Convert to float\n",
        "x_float = x.type(torch.DoubleTensor)"
      ],
      "metadata": {
        "id": "tnkasH6oxvor"
      },
      "execution_count": 45,
      "outputs": []
    },
    {
      "cell_type": "code",
      "source": [
        "x_float.dtype"
      ],
      "metadata": {
        "colab": {
          "base_uri": "https://localhost:8080/"
        },
        "id": "cbEZPPwOyktw",
        "outputId": "6f38c078-429b-482f-80fb-8d77c84e9e9f"
      },
      "execution_count": 46,
      "outputs": [
        {
          "output_type": "execute_result",
          "data": {
            "text/plain": [
              "torch.float64"
            ]
          },
          "metadata": {},
          "execution_count": 46
        }
      ]
    },
    {
      "cell_type": "code",
      "source": [
        "#To calculate the average, we need a decimal tensor\n",
        "x_float.mean()"
      ],
      "metadata": {
        "colab": {
          "base_uri": "https://localhost:8080/"
        },
        "id": "4SJYe4dAygkH",
        "outputId": "c1d2d964-d60c-4810-d7e1-33f89b2ada7f"
      },
      "execution_count": 47,
      "outputs": [
        {
          "output_type": "execute_result",
          "data": {
            "text/plain": [
              "tensor(45., dtype=torch.float64)"
            ]
          },
          "metadata": {},
          "execution_count": 47
        }
      ]
    },
    {
      "cell_type": "code",
      "source": [
        "#sum items\n",
        "x.sum()"
      ],
      "metadata": {
        "colab": {
          "base_uri": "https://localhost:8080/"
        },
        "id": "72PTAU2dy8Bf",
        "outputId": "47d1bdef-f361-4dac-ad5a-cbc46b3d0f67"
      },
      "execution_count": 48,
      "outputs": [
        {
          "output_type": "execute_result",
          "data": {
            "text/plain": [
              "tensor(450)"
            ]
          },
          "metadata": {},
          "execution_count": 48
        }
      ]
    },
    {
      "cell_type": "markdown",
      "source": [
        "## Index"
      ],
      "metadata": {
        "id": "BDPpOUEyzJWp"
      }
    },
    {
      "cell_type": "code",
      "source": [
        "torch.argmax(x)"
      ],
      "metadata": {
        "colab": {
          "base_uri": "https://localhost:8080/"
        },
        "id": "bHDuEW7jzAdr",
        "outputId": "58420f12-c13c-4388-9346-c19c948d6638"
      },
      "execution_count": 49,
      "outputs": [
        {
          "output_type": "execute_result",
          "data": {
            "text/plain": [
              "tensor(9)"
            ]
          },
          "metadata": {},
          "execution_count": 49
        }
      ]
    },
    {
      "cell_type": "code",
      "source": [
        "x[0] = 1000"
      ],
      "metadata": {
        "id": "cSjc-NCg06xL"
      },
      "execution_count": 50,
      "outputs": []
    },
    {
      "cell_type": "code",
      "source": [
        "x"
      ],
      "metadata": {
        "colab": {
          "base_uri": "https://localhost:8080/"
        },
        "id": "fv7kt--70zZW",
        "outputId": "3d822762-5922-4515-e3e4-cd1e631fb5db"
      },
      "execution_count": 51,
      "outputs": [
        {
          "output_type": "execute_result",
          "data": {
            "text/plain": [
              "tensor([1000,   10,   20,   30,   40,   50,   60,   70,   80,   90])"
            ]
          },
          "metadata": {},
          "execution_count": 51
        }
      ]
    },
    {
      "cell_type": "code",
      "source": [
        "torch.argmin(x)"
      ],
      "metadata": {
        "colab": {
          "base_uri": "https://localhost:8080/"
        },
        "id": "rvl9z0SS0wH0",
        "outputId": "65d54e88-2423-447d-fd40-778b2cc90610"
      },
      "execution_count": 52,
      "outputs": [
        {
          "output_type": "execute_result",
          "data": {
            "text/plain": [
              "tensor(1)"
            ]
          },
          "metadata": {},
          "execution_count": 52
        }
      ]
    },
    {
      "cell_type": "markdown",
      "source": [
        "## Tensor Datatype"
      ],
      "metadata": {
        "id": "53Bb7fpn1McG"
      }
    },
    {
      "cell_type": "code",
      "source": [
        "x.dtype"
      ],
      "metadata": {
        "colab": {
          "base_uri": "https://localhost:8080/"
        },
        "id": "_GmGIwnu1PQV",
        "outputId": "858c8b70-ba97-46bf-b447-27bb5465134f"
      },
      "execution_count": 53,
      "outputs": [
        {
          "output_type": "execute_result",
          "data": {
            "text/plain": [
              "torch.int64"
            ]
          },
          "metadata": {},
          "execution_count": 53
        }
      ]
    },
    {
      "cell_type": "code",
      "source": [
        "x_float.dtype"
      ],
      "metadata": {
        "colab": {
          "base_uri": "https://localhost:8080/"
        },
        "id": "bbSKPGiW1fLv",
        "outputId": "964bc17b-6c4e-47af-f81b-9ca064c15f22"
      },
      "execution_count": 54,
      "outputs": [
        {
          "output_type": "execute_result",
          "data": {
            "text/plain": [
              "torch.float64"
            ]
          },
          "metadata": {},
          "execution_count": 54
        }
      ]
    },
    {
      "cell_type": "code",
      "source": [
        "y.dtype"
      ],
      "metadata": {
        "colab": {
          "base_uri": "https://localhost:8080/"
        },
        "id": "7xgewDD51tnn",
        "outputId": "8cd33cba-59c5-4d61-d958-dfa398d58301"
      },
      "execution_count": 55,
      "outputs": [
        {
          "output_type": "execute_result",
          "data": {
            "text/plain": [
              "torch.float32"
            ]
          },
          "metadata": {},
          "execution_count": 55
        }
      ]
    },
    {
      "cell_type": "code",
      "source": [
        "y_64 = y.type(torch.float64)"
      ],
      "metadata": {
        "id": "SMkIoutJ2IEr"
      },
      "execution_count": 56,
      "outputs": []
    },
    {
      "cell_type": "code",
      "source": [
        "y_64.dtype"
      ],
      "metadata": {
        "colab": {
          "base_uri": "https://localhost:8080/"
        },
        "id": "vkhD2-j72fJ0",
        "outputId": "55e36006-fb78-4b46-d7ae-7b14fe557d4f"
      },
      "execution_count": 57,
      "outputs": [
        {
          "output_type": "execute_result",
          "data": {
            "text/plain": [
              "torch.float64"
            ]
          },
          "metadata": {},
          "execution_count": 57
        }
      ]
    },
    {
      "cell_type": "markdown",
      "source": [
        "## Reshape"
      ],
      "metadata": {
        "id": "FovSxj6t2_Dn"
      }
    },
    {
      "cell_type": "code",
      "source": [
        "a = torch.arange(1,9.)\n",
        "a"
      ],
      "metadata": {
        "colab": {
          "base_uri": "https://localhost:8080/"
        },
        "id": "qOtSfw0M3Bo6",
        "outputId": "39e8f842-f4ab-48d5-f5d5-4a00b05d26eb"
      },
      "execution_count": 58,
      "outputs": [
        {
          "output_type": "execute_result",
          "data": {
            "text/plain": [
              "tensor([1., 2., 3., 4., 5., 6., 7., 8.])"
            ]
          },
          "metadata": {},
          "execution_count": 58
        }
      ]
    },
    {
      "cell_type": "code",
      "source": [
        "a, a.shape, a.dtype"
      ],
      "metadata": {
        "colab": {
          "base_uri": "https://localhost:8080/"
        },
        "id": "XHH7sKY630-H",
        "outputId": "7a885db4-d2e9-439a-8f37-bf313ec5463e"
      },
      "execution_count": 59,
      "outputs": [
        {
          "output_type": "execute_result",
          "data": {
            "text/plain": [
              "(tensor([1., 2., 3., 4., 5., 6., 7., 8.]), torch.Size([8]), torch.float32)"
            ]
          },
          "metadata": {},
          "execution_count": 59
        }
      ]
    },
    {
      "cell_type": "code",
      "source": [
        "a.ndim"
      ],
      "metadata": {
        "colab": {
          "base_uri": "https://localhost:8080/"
        },
        "id": "iIEuxpZN4anl",
        "outputId": "dfca3b16-d208-41cf-e49b-4e7d396c0ff4"
      },
      "execution_count": 60,
      "outputs": [
        {
          "output_type": "execute_result",
          "data": {
            "text/plain": [
              "1"
            ]
          },
          "metadata": {},
          "execution_count": 60
        }
      ]
    },
    {
      "cell_type": "code",
      "source": [
        "b = a.reshape(1,8)"
      ],
      "metadata": {
        "id": "otbZ8NUB3_UK"
      },
      "execution_count": 61,
      "outputs": []
    },
    {
      "cell_type": "code",
      "source": [
        "b, b.shape, b.dtype"
      ],
      "metadata": {
        "colab": {
          "base_uri": "https://localhost:8080/"
        },
        "id": "C2hpCM_r4H_G",
        "outputId": "186ef0da-0d0e-43ce-db18-27594cfce8c1"
      },
      "execution_count": 62,
      "outputs": [
        {
          "output_type": "execute_result",
          "data": {
            "text/plain": [
              "(tensor([[1., 2., 3., 4., 5., 6., 7., 8.]]), torch.Size([1, 8]), torch.float32)"
            ]
          },
          "metadata": {},
          "execution_count": 62
        }
      ]
    },
    {
      "cell_type": "code",
      "source": [
        "b.ndim"
      ],
      "metadata": {
        "colab": {
          "base_uri": "https://localhost:8080/"
        },
        "id": "dA-K-vrG4do2",
        "outputId": "42c75535-676e-478d-b53b-bd89e4291e3b"
      },
      "execution_count": 63,
      "outputs": [
        {
          "output_type": "execute_result",
          "data": {
            "text/plain": [
              "2"
            ]
          },
          "metadata": {},
          "execution_count": 63
        }
      ]
    },
    {
      "cell_type": "code",
      "source": [
        "c = a.reshape(2,4)"
      ],
      "metadata": {
        "id": "mb7Np2M64mTP"
      },
      "execution_count": 64,
      "outputs": []
    },
    {
      "cell_type": "code",
      "source": [
        "c , c.shape"
      ],
      "metadata": {
        "colab": {
          "base_uri": "https://localhost:8080/"
        },
        "id": "XGzHow4U4_SZ",
        "outputId": "b7f91e78-1c9e-4c1f-f533-4eaca9ae9f62"
      },
      "execution_count": 65,
      "outputs": [
        {
          "output_type": "execute_result",
          "data": {
            "text/plain": [
              "(tensor([[1., 2., 3., 4.],\n",
              "         [5., 6., 7., 8.]]),\n",
              " torch.Size([2, 4]))"
            ]
          },
          "metadata": {},
          "execution_count": 65
        }
      ]
    },
    {
      "cell_type": "code",
      "source": [
        "d = a.reshape(4,2)\n",
        "d"
      ],
      "metadata": {
        "colab": {
          "base_uri": "https://localhost:8080/"
        },
        "id": "JfGmBLo_5Fk7",
        "outputId": "104e6edb-435e-47c6-945d-3bcb19f9c9ff"
      },
      "execution_count": 66,
      "outputs": [
        {
          "output_type": "execute_result",
          "data": {
            "text/plain": [
              "tensor([[1., 2.],\n",
              "        [3., 4.],\n",
              "        [5., 6.],\n",
              "        [7., 8.]])"
            ]
          },
          "metadata": {},
          "execution_count": 66
        }
      ]
    },
    {
      "cell_type": "markdown",
      "source": [
        "### View"
      ],
      "metadata": {
        "id": "TVtmBO4f6ea6"
      }
    },
    {
      "cell_type": "code",
      "source": [
        "#Show View of a. It refers to the previous one\n",
        "v = a.view(2,4)\n",
        "v , a"
      ],
      "metadata": {
        "colab": {
          "base_uri": "https://localhost:8080/"
        },
        "id": "uILVNdeN5hhg",
        "outputId": "0351b480-4b25-4400-e2e0-b4755e2fb5d1"
      },
      "execution_count": 67,
      "outputs": [
        {
          "output_type": "execute_result",
          "data": {
            "text/plain": [
              "(tensor([[1., 2., 3., 4.],\n",
              "         [5., 6., 7., 8.]]),\n",
              " tensor([1., 2., 3., 4., 5., 6., 7., 8.]))"
            ]
          },
          "metadata": {},
          "execution_count": 67
        }
      ]
    },
    {
      "cell_type": "code",
      "source": [
        "v[0][0] = 111"
      ],
      "metadata": {
        "id": "W5A0zO9z6Fhj"
      },
      "execution_count": 68,
      "outputs": []
    },
    {
      "cell_type": "code",
      "source": [
        "v , a"
      ],
      "metadata": {
        "colab": {
          "base_uri": "https://localhost:8080/"
        },
        "id": "MMEPvD1g6L3V",
        "outputId": "8bef2d1b-3562-4041-a107-d4a74680b3bd"
      },
      "execution_count": 69,
      "outputs": [
        {
          "output_type": "execute_result",
          "data": {
            "text/plain": [
              "(tensor([[111.,   2.,   3.,   4.],\n",
              "         [  5.,   6.,   7.,   8.]]),\n",
              " tensor([111.,   2.,   3.,   4.,   5.,   6.,   7.,   8.]))"
            ]
          },
          "metadata": {},
          "execution_count": 69
        }
      ]
    },
    {
      "cell_type": "markdown",
      "source": [
        "### Stack"
      ],
      "metadata": {
        "id": "1FERK5tn6am5"
      }
    },
    {
      "cell_type": "code",
      "source": [
        "a"
      ],
      "metadata": {
        "colab": {
          "base_uri": "https://localhost:8080/"
        },
        "id": "k4FGYNqM7NNa",
        "outputId": "a16d018e-1f7e-4511-f21c-dc62b1eddb50"
      },
      "execution_count": 70,
      "outputs": [
        {
          "output_type": "execute_result",
          "data": {
            "text/plain": [
              "tensor([111.,   2.,   3.,   4.,   5.,   6.,   7.,   8.])"
            ]
          },
          "metadata": {},
          "execution_count": 70
        }
      ]
    },
    {
      "cell_type": "code",
      "source": [
        "a_stack = torch.stack([a,a],dim=0)\n",
        "a_stack"
      ],
      "metadata": {
        "colab": {
          "base_uri": "https://localhost:8080/"
        },
        "id": "a0904m1_6goI",
        "outputId": "37a38c98-3835-4409-9807-5eb557458e89"
      },
      "execution_count": 71,
      "outputs": [
        {
          "output_type": "execute_result",
          "data": {
            "text/plain": [
              "tensor([[111.,   2.,   3.,   4.,   5.,   6.,   7.,   8.],\n",
              "        [111.,   2.,   3.,   4.,   5.,   6.,   7.,   8.]])"
            ]
          },
          "metadata": {},
          "execution_count": 71
        }
      ]
    },
    {
      "cell_type": "code",
      "source": [
        "a_stack_1 = torch.stack([a,a],dim=1)\n",
        "a_stack_1"
      ],
      "metadata": {
        "colab": {
          "base_uri": "https://localhost:8080/"
        },
        "id": "IRYtjIpS6-1e",
        "outputId": "06823d97-317a-4041-99d0-90f58f055aa9"
      },
      "execution_count": 72,
      "outputs": [
        {
          "output_type": "execute_result",
          "data": {
            "text/plain": [
              "tensor([[111., 111.],\n",
              "        [  2.,   2.],\n",
              "        [  3.,   3.],\n",
              "        [  4.,   4.],\n",
              "        [  5.,   5.],\n",
              "        [  6.,   6.],\n",
              "        [  7.,   7.],\n",
              "        [  8.,   8.]])"
            ]
          },
          "metadata": {},
          "execution_count": 72
        }
      ]
    },
    {
      "cell_type": "markdown",
      "source": [
        "### Squeeze()"
      ],
      "metadata": {
        "id": "a39Zh5hr7Rw4"
      }
    },
    {
      "cell_type": "code",
      "source": [
        "a"
      ],
      "metadata": {
        "colab": {
          "base_uri": "https://localhost:8080/"
        },
        "id": "uiJui-gW7YAJ",
        "outputId": "44c1fbb8-e370-4c37-ef3b-9d78f25fa6da"
      },
      "execution_count": 73,
      "outputs": [
        {
          "output_type": "execute_result",
          "data": {
            "text/plain": [
              "tensor([111.,   2.,   3.,   4.,   5.,   6.,   7.,   8.])"
            ]
          },
          "metadata": {},
          "execution_count": 73
        }
      ]
    },
    {
      "cell_type": "code",
      "source": [
        "a.shape"
      ],
      "metadata": {
        "id": "oZb8smjb8KMb",
        "outputId": "946636b2-b403-4dd6-bade-cadecea2fd91",
        "colab": {
          "base_uri": "https://localhost:8080/"
        }
      },
      "execution_count": 74,
      "outputs": [
        {
          "output_type": "execute_result",
          "data": {
            "text/plain": [
              "torch.Size([8])"
            ]
          },
          "metadata": {},
          "execution_count": 74
        }
      ]
    },
    {
      "cell_type": "code",
      "source": [
        "a_1_8 = a.reshape(1,8)\n",
        "a_1_8"
      ],
      "metadata": {
        "colab": {
          "base_uri": "https://localhost:8080/"
        },
        "id": "Zbl5EEzX7Wjb",
        "outputId": "d817b90f-ec29-4c89-c37b-f0ee81b85147"
      },
      "execution_count": 75,
      "outputs": [
        {
          "output_type": "execute_result",
          "data": {
            "text/plain": [
              "tensor([[111.,   2.,   3.,   4.,   5.,   6.,   7.,   8.]])"
            ]
          },
          "metadata": {},
          "execution_count": 75
        }
      ]
    },
    {
      "cell_type": "code",
      "source": [
        "a_1_8.shape"
      ],
      "metadata": {
        "colab": {
          "base_uri": "https://localhost:8080/"
        },
        "id": "dGjUQtmH7xOO",
        "outputId": "7ad3ec01-06c7-49da-c6e0-9f299d207db7"
      },
      "execution_count": 76,
      "outputs": [
        {
          "output_type": "execute_result",
          "data": {
            "text/plain": [
              "torch.Size([1, 8])"
            ]
          },
          "metadata": {},
          "execution_count": 76
        }
      ]
    },
    {
      "cell_type": "code",
      "source": [
        "a_1_8_sq = a_1_8.squeeze()\n",
        "a_1_8_sq"
      ],
      "metadata": {
        "colab": {
          "base_uri": "https://localhost:8080/"
        },
        "id": "_BeWzwaS7r7s",
        "outputId": "5834fce3-8bdc-43a8-d922-43b5321236d2"
      },
      "execution_count": 77,
      "outputs": [
        {
          "output_type": "execute_result",
          "data": {
            "text/plain": [
              "tensor([111.,   2.,   3.,   4.,   5.,   6.,   7.,   8.])"
            ]
          },
          "metadata": {},
          "execution_count": 77
        }
      ]
    },
    {
      "cell_type": "code",
      "source": [
        "a_1_8_sq.shape"
      ],
      "metadata": {
        "colab": {
          "base_uri": "https://localhost:8080/"
        },
        "id": "tLFvjymp714T",
        "outputId": "38a28508-7388-44cf-ac64-7624d4119066"
      },
      "execution_count": 78,
      "outputs": [
        {
          "output_type": "execute_result",
          "data": {
            "text/plain": [
              "torch.Size([8])"
            ]
          },
          "metadata": {},
          "execution_count": 78
        }
      ]
    },
    {
      "cell_type": "code",
      "source": [
        "a_1_8_sq.unsqueeze(dim=0)"
      ],
      "metadata": {
        "colab": {
          "base_uri": "https://localhost:8080/"
        },
        "id": "qjZsrfaq-LH_",
        "outputId": "a411827a-a0fe-4afd-be24-b4de5b707986"
      },
      "execution_count": 79,
      "outputs": [
        {
          "output_type": "execute_result",
          "data": {
            "text/plain": [
              "tensor([[111.,   2.,   3.,   4.,   5.,   6.,   7.,   8.]])"
            ]
          },
          "metadata": {},
          "execution_count": 79
        }
      ]
    },
    {
      "cell_type": "markdown",
      "source": [
        "## Permute()"
      ],
      "metadata": {
        "id": "rfqrg9CA-uuS"
      }
    },
    {
      "cell_type": "code",
      "source": [
        "img = torch.rand(size=(255,255,3))"
      ],
      "metadata": {
        "id": "BkNoOdkS-xbz"
      },
      "execution_count": 80,
      "outputs": []
    },
    {
      "cell_type": "code",
      "source": [
        "img"
      ],
      "metadata": {
        "colab": {
          "base_uri": "https://localhost:8080/"
        },
        "id": "jagb0GAY-2ue",
        "outputId": "018432cc-1318-4ab3-9b13-655d57ebe073"
      },
      "execution_count": 81,
      "outputs": [
        {
          "output_type": "execute_result",
          "data": {
            "text/plain": [
              "tensor([[[0.0598, 0.1367, 0.9723],\n",
              "         [0.8049, 0.9248, 0.3121],\n",
              "         [0.4958, 0.2514, 0.5078],\n",
              "         ...,\n",
              "         [0.8832, 0.1737, 0.5878],\n",
              "         [0.0616, 0.6424, 0.0791],\n",
              "         [0.5117, 0.5932, 0.2864]],\n",
              "\n",
              "        [[0.9079, 0.3099, 0.0579],\n",
              "         [0.8943, 0.3599, 0.7707],\n",
              "         [0.6478, 0.2989, 0.4373],\n",
              "         ...,\n",
              "         [0.4274, 0.4560, 0.1561],\n",
              "         [0.4347, 0.6359, 0.8210],\n",
              "         [0.3954, 0.0282, 0.1253]],\n",
              "\n",
              "        [[0.4552, 0.4543, 0.7374],\n",
              "         [0.1499, 0.2253, 0.1623],\n",
              "         [0.9785, 0.3544, 0.1689],\n",
              "         ...,\n",
              "         [0.7293, 0.1929, 0.4569],\n",
              "         [0.9973, 0.8046, 0.8710],\n",
              "         [0.4938, 0.1622, 0.9257]],\n",
              "\n",
              "        ...,\n",
              "\n",
              "        [[0.0762, 0.5959, 0.3099],\n",
              "         [0.5750, 0.2153, 0.5490],\n",
              "         [0.4687, 0.1215, 0.9505],\n",
              "         ...,\n",
              "         [0.0618, 0.0161, 0.8776],\n",
              "         [0.3806, 0.2615, 0.4981],\n",
              "         [0.7421, 0.4825, 0.3783]],\n",
              "\n",
              "        [[0.3574, 0.3521, 0.2877],\n",
              "         [0.4623, 0.8142, 0.7512],\n",
              "         [0.3026, 0.1585, 0.9476],\n",
              "         ...,\n",
              "         [0.8441, 0.2528, 0.1120],\n",
              "         [0.1564, 0.2237, 0.8517],\n",
              "         [0.1860, 0.3077, 0.2318]],\n",
              "\n",
              "        [[0.1166, 0.3099, 0.4753],\n",
              "         [0.6619, 0.8658, 0.9490],\n",
              "         [0.0708, 0.4086, 0.2908],\n",
              "         ...,\n",
              "         [0.6560, 0.3271, 0.5293],\n",
              "         [0.9895, 0.6652, 0.5547],\n",
              "         [0.7437, 0.8311, 0.0029]]])"
            ]
          },
          "metadata": {},
          "execution_count": 81
        }
      ]
    },
    {
      "cell_type": "code",
      "source": [
        "#displacement\n",
        "img.permute(2,0,1)"
      ],
      "metadata": {
        "colab": {
          "base_uri": "https://localhost:8080/"
        },
        "id": "xv_WHDEe-4fs",
        "outputId": "24c1c452-26c9-4d5c-a06f-fc27367e4ecd"
      },
      "execution_count": 82,
      "outputs": [
        {
          "output_type": "execute_result",
          "data": {
            "text/plain": [
              "tensor([[[0.0598, 0.8049, 0.4958,  ..., 0.8832, 0.0616, 0.5117],\n",
              "         [0.9079, 0.8943, 0.6478,  ..., 0.4274, 0.4347, 0.3954],\n",
              "         [0.4552, 0.1499, 0.9785,  ..., 0.7293, 0.9973, 0.4938],\n",
              "         ...,\n",
              "         [0.0762, 0.5750, 0.4687,  ..., 0.0618, 0.3806, 0.7421],\n",
              "         [0.3574, 0.4623, 0.3026,  ..., 0.8441, 0.1564, 0.1860],\n",
              "         [0.1166, 0.6619, 0.0708,  ..., 0.6560, 0.9895, 0.7437]],\n",
              "\n",
              "        [[0.1367, 0.9248, 0.2514,  ..., 0.1737, 0.6424, 0.5932],\n",
              "         [0.3099, 0.3599, 0.2989,  ..., 0.4560, 0.6359, 0.0282],\n",
              "         [0.4543, 0.2253, 0.3544,  ..., 0.1929, 0.8046, 0.1622],\n",
              "         ...,\n",
              "         [0.5959, 0.2153, 0.1215,  ..., 0.0161, 0.2615, 0.4825],\n",
              "         [0.3521, 0.8142, 0.1585,  ..., 0.2528, 0.2237, 0.3077],\n",
              "         [0.3099, 0.8658, 0.4086,  ..., 0.3271, 0.6652, 0.8311]],\n",
              "\n",
              "        [[0.9723, 0.3121, 0.5078,  ..., 0.5878, 0.0791, 0.2864],\n",
              "         [0.0579, 0.7707, 0.4373,  ..., 0.1561, 0.8210, 0.1253],\n",
              "         [0.7374, 0.1623, 0.1689,  ..., 0.4569, 0.8710, 0.9257],\n",
              "         ...,\n",
              "         [0.3099, 0.5490, 0.9505,  ..., 0.8776, 0.4981, 0.3783],\n",
              "         [0.2877, 0.7512, 0.9476,  ..., 0.1120, 0.8517, 0.2318],\n",
              "         [0.4753, 0.9490, 0.2908,  ..., 0.5293, 0.5547, 0.0029]]])"
            ]
          },
          "metadata": {},
          "execution_count": 82
        }
      ]
    },
    {
      "cell_type": "markdown",
      "source": [
        "## Select"
      ],
      "metadata": {
        "id": "QUfMWXBELht-"
      }
    },
    {
      "cell_type": "code",
      "source": [
        "x"
      ],
      "metadata": {
        "colab": {
          "base_uri": "https://localhost:8080/"
        },
        "id": "L50a6nZJLzt5",
        "outputId": "df571ea6-2306-4674-a770-1b80b31b4747"
      },
      "execution_count": 84,
      "outputs": [
        {
          "output_type": "execute_result",
          "data": {
            "text/plain": [
              "tensor([1000,   10,   20,   30,   40,   50,   60,   70,   80,   90])"
            ]
          },
          "metadata": {},
          "execution_count": 84
        }
      ]
    },
    {
      "cell_type": "code",
      "source": [
        "x[4]"
      ],
      "metadata": {
        "colab": {
          "base_uri": "https://localhost:8080/"
        },
        "id": "J3q2oHRFLxcA",
        "outputId": "4a4c4e57-9d15-4e2c-cb60-348c4c5be793"
      },
      "execution_count": 83,
      "outputs": [
        {
          "output_type": "execute_result",
          "data": {
            "text/plain": [
              "tensor(40)"
            ]
          },
          "metadata": {},
          "execution_count": 83
        }
      ]
    },
    {
      "cell_type": "code",
      "source": [
        "xx = x.reshape(2,5)"
      ],
      "metadata": {
        "id": "fvq0zfhTL3f6"
      },
      "execution_count": 85,
      "outputs": []
    },
    {
      "cell_type": "code",
      "source": [
        "xx"
      ],
      "metadata": {
        "colab": {
          "base_uri": "https://localhost:8080/"
        },
        "id": "gXJfsjV3L-lL",
        "outputId": "7bf6a61d-bcc6-4e49-b39f-637bcbff703c"
      },
      "execution_count": 86,
      "outputs": [
        {
          "output_type": "execute_result",
          "data": {
            "text/plain": [
              "tensor([[1000,   10,   20,   30,   40],\n",
              "        [  50,   60,   70,   80,   90]])"
            ]
          },
          "metadata": {},
          "execution_count": 86
        }
      ]
    },
    {
      "cell_type": "code",
      "source": [
        "xx[0]"
      ],
      "metadata": {
        "colab": {
          "base_uri": "https://localhost:8080/"
        },
        "id": "D69gf4H0MAp7",
        "outputId": "06b58d19-2f5b-48ac-ed14-04db2bd4df82"
      },
      "execution_count": 87,
      "outputs": [
        {
          "output_type": "execute_result",
          "data": {
            "text/plain": [
              "tensor(1000)"
            ]
          },
          "metadata": {},
          "execution_count": 87
        }
      ]
    },
    {
      "cell_type": "code",
      "source": [
        "xx[0,1]"
      ],
      "metadata": {
        "colab": {
          "base_uri": "https://localhost:8080/"
        },
        "id": "SGDZTDUlMCQb",
        "outputId": "e9bf3130-5758-4896-fe97-3f96acfe6891"
      },
      "execution_count": 90,
      "outputs": [
        {
          "output_type": "execute_result",
          "data": {
            "text/plain": [
              "tensor(10)"
            ]
          },
          "metadata": {},
          "execution_count": 90
        }
      ]
    },
    {
      "cell_type": "code",
      "source": [
        "xx[:]"
      ],
      "metadata": {
        "colab": {
          "base_uri": "https://localhost:8080/"
        },
        "id": "39QtMWuPMIZj",
        "outputId": "01931f46-741d-4162-da3e-3be53b4a9256"
      },
      "execution_count": 89,
      "outputs": [
        {
          "output_type": "execute_result",
          "data": {
            "text/plain": [
              "tensor([[1000,   10,   20,   30,   40],\n",
              "        [  50,   60,   70,   80,   90]])"
            ]
          },
          "metadata": {},
          "execution_count": 89
        }
      ]
    },
    {
      "cell_type": "code",
      "source": [
        "xx[:,0]"
      ],
      "metadata": {
        "colab": {
          "base_uri": "https://localhost:8080/"
        },
        "id": "16Pmt5k1MdZ6",
        "outputId": "b7b917bd-30ae-4ad1-df33-b10dc6c2365c"
      },
      "execution_count": 91,
      "outputs": [
        {
          "output_type": "execute_result",
          "data": {
            "text/plain": [
              "tensor([1000,   50])"
            ]
          },
          "metadata": {},
          "execution_count": 91
        }
      ]
    },
    {
      "cell_type": "code",
      "source": [
        "xx[:1]"
      ],
      "metadata": {
        "colab": {
          "base_uri": "https://localhost:8080/"
        },
        "id": "_ax6zI2fMf5X",
        "outputId": "d2bca324-e142-4363-b1fc-89d85a9e36e8"
      },
      "execution_count": 92,
      "outputs": [
        {
          "output_type": "execute_result",
          "data": {
            "text/plain": [
              "tensor([[1000,   10,   20,   30,   40]])"
            ]
          },
          "metadata": {},
          "execution_count": 92
        }
      ]
    }
  ]
}