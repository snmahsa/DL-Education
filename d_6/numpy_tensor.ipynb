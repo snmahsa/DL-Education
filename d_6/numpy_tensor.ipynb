{
  "nbformat": 4,
  "nbformat_minor": 0,
  "metadata": {
    "colab": {
      "provenance": []
    },
    "kernelspec": {
      "name": "python3",
      "display_name": "Python 3"
    },
    "language_info": {
      "name": "python"
    }
  },
  "cells": [
    {
      "cell_type": "code",
      "execution_count": 15,
      "metadata": {
        "id": "6nrF56yOsbeO"
      },
      "outputs": [],
      "source": [
        "import torch\n",
        "import numpy as np\n",
        "import random"
      ]
    },
    {
      "cell_type": "markdown",
      "source": [
        "## Numpy , tensor"
      ],
      "metadata": {
        "id": "CCGZNpLRyYrC"
      }
    },
    {
      "cell_type": "code",
      "source": [
        "#Creat numpy array\n",
        "array = np.arange(1.0, 10.0)\n",
        "#Copy input structure and creat tensor\n",
        "tensor = torch.from_numpy(array)"
      ],
      "metadata": {
        "id": "X-EU4O-pswZj"
      },
      "execution_count": 3,
      "outputs": []
    },
    {
      "cell_type": "code",
      "source": [
        "array.dtype, tensor.dtype\n"
      ],
      "metadata": {
        "colab": {
          "base_uri": "https://localhost:8080/"
        },
        "id": "wrwmMDhetAbk",
        "outputId": "6fdbc5d0-713b-4f3a-cafb-3f5ef87e7d8c"
      },
      "execution_count": 5,
      "outputs": [
        {
          "output_type": "execute_result",
          "data": {
            "text/plain": [
              "(dtype('float64'), torch.float64)"
            ]
          },
          "metadata": {},
          "execution_count": 5
        }
      ]
    },
    {
      "cell_type": "code",
      "source": [
        "#Specify the type\n",
        "tensor_2 = torch.from_numpy(array).type(torch.float32)\n",
        "array.dtype, tensor_2.dtype"
      ],
      "metadata": {
        "colab": {
          "base_uri": "https://localhost:8080/"
        },
        "id": "Oy1DBzuxtR_i",
        "outputId": "e4efef4f-91cd-4a82-f077-66a3da9fa9e6"
      },
      "execution_count": 9,
      "outputs": [
        {
          "output_type": "execute_result",
          "data": {
            "text/plain": [
              "torch.float32"
            ]
          },
          "metadata": {},
          "execution_count": 9
        }
      ]
    },
    {
      "cell_type": "code",
      "source": [
        "tensor_3 = torch.zeros(9)"
      ],
      "metadata": {
        "id": "kFtLZOa2umf4"
      },
      "execution_count": 10,
      "outputs": []
    },
    {
      "cell_type": "code",
      "source": [
        "numpy_tensor_3 = tensor_3.numpy()"
      ],
      "metadata": {
        "id": "FSyx-9neu2T5"
      },
      "execution_count": 11,
      "outputs": []
    },
    {
      "cell_type": "code",
      "source": [
        "numpy_tensor_3.dtype, tensor_3.dtype\n"
      ],
      "metadata": {
        "colab": {
          "base_uri": "https://localhost:8080/"
        },
        "id": "1h3YwExPvAbm",
        "outputId": "abbbc700-b41d-4ade-b888-fdcc8e2fc3d5"
      },
      "execution_count": 12,
      "outputs": [
        {
          "output_type": "execute_result",
          "data": {
            "text/plain": [
              "(dtype('float32'), torch.float32)"
            ]
          },
          "metadata": {},
          "execution_count": 12
        }
      ]
    },
    {
      "cell_type": "markdown",
      "source": [
        "## Reproducibility"
      ],
      "metadata": {
        "id": "rOVH7T3uwH-w"
      }
    },
    {
      "cell_type": "code",
      "source": [
        "rand_tensor_1 = torch.rand(3,5)\n",
        "rand_tensor_2 = torch.rand(3,5)"
      ],
      "metadata": {
        "id": "j2bc_kcAvEqM"
      },
      "execution_count": 17,
      "outputs": []
    },
    {
      "cell_type": "code",
      "source": [
        "rand_tensor_1 == rand_tensor_2"
      ],
      "metadata": {
        "colab": {
          "base_uri": "https://localhost:8080/"
        },
        "id": "r1QtfCcnxXZO",
        "outputId": "78a62381-e93d-4a30-e600-9df4ee5063f6"
      },
      "execution_count": 18,
      "outputs": [
        {
          "output_type": "execute_result",
          "data": {
            "text/plain": [
              "tensor([[False, False, False, False, False],\n",
              "        [False, False, False, False, False],\n",
              "        [False, False, False, False, False]])"
            ]
          },
          "metadata": {},
          "execution_count": 18
        }
      ]
    },
    {
      "cell_type": "code",
      "source": [
        "seed = 100\n",
        "torch.manual_seed(seed=seed)\n",
        "rand_tensor_3 = torch.rand(3,5)\n",
        "torch.manual_seed(seed=seed)\n",
        "rand_tensor_4 = torch.rand(3,5)\n",
        "rand_tensor_3 == rand_tensor_4"
      ],
      "metadata": {
        "colab": {
          "base_uri": "https://localhost:8080/"
        },
        "id": "jEEXwYDhxcJJ",
        "outputId": "5a90b538-2ec4-488d-e514-467b8e70c828"
      },
      "execution_count": 21,
      "outputs": [
        {
          "output_type": "execute_result",
          "data": {
            "text/plain": [
              "tensor([[True, True, True, True, True],\n",
              "        [True, True, True, True, True],\n",
              "        [True, True, True, True, True]])"
            ]
          },
          "metadata": {},
          "execution_count": 21
        }
      ]
    }
  ]
}