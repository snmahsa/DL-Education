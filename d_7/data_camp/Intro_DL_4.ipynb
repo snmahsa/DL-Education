{
  "nbformat": 4,
  "nbformat_minor": 0,
  "metadata": {
    "colab": {
      "provenance": []
    },
    "kernelspec": {
      "name": "python3",
      "display_name": "Python 3"
    },
    "language_info": {
      "name": "python"
    }
  },
  "cells": [
    {
      "cell_type": "code",
      "execution_count": 1,
      "metadata": {
        "id": "m3giZ-LYy9Nh"
      },
      "outputs": [],
      "source": [
        "import numpy as np"
      ]
    },
    {
      "cell_type": "code",
      "source": [
        "# Define relu activation function\n",
        "def relu(input):\n",
        "    return max(input, 0)\n"
      ],
      "metadata": {
        "id": "2YtPhViezL-_"
      },
      "execution_count": 2,
      "outputs": []
    },
    {
      "cell_type": "code",
      "source": [
        "weights=np.array([1, 2])\n",
        "input_data = np.array([3, 4])\n",
        "target = 6\n",
        "learning_rate = 0.01"
      ],
      "metadata": {
        "id": "k_SG8DddzMzo"
      },
      "execution_count": 3,
      "outputs": []
    },
    {
      "cell_type": "code",
      "source": [
        "preds = (weights * input_data).sum()\n",
        "preds"
      ],
      "metadata": {
        "colab": {
          "base_uri": "https://localhost:8080/"
        },
        "id": "ZiCuGBjtzckl",
        "outputId": "b7a4c84b-4aa3-4908-afca-045ebdf1c49c"
      },
      "execution_count": 13,
      "outputs": [
        {
          "output_type": "execute_result",
          "data": {
            "text/plain": [
              "11"
            ]
          },
          "metadata": {},
          "execution_count": 13
        }
      ]
    },
    {
      "cell_type": "code",
      "source": [
        "error = preds - target\n",
        "error"
      ],
      "metadata": {
        "colab": {
          "base_uri": "https://localhost:8080/"
        },
        "id": "6W8RoD85zluW",
        "outputId": "0949acf5-91c0-4f7b-c3ae-b190fe4d8ff1"
      },
      "execution_count": 8,
      "outputs": [
        {
          "output_type": "execute_result",
          "data": {
            "text/plain": [
              "5"
            ]
          },
          "metadata": {},
          "execution_count": 8
        }
      ]
    },
    {
      "cell_type": "code",
      "source": [
        "gradient = 2 * input_data * error\n",
        "gradient"
      ],
      "metadata": {
        "colab": {
          "base_uri": "https://localhost:8080/"
        },
        "id": "Bw8X_92HzusZ",
        "outputId": "660a3cce-f900-4544-cb60-96795b3b23f1"
      },
      "execution_count": 7,
      "outputs": [
        {
          "output_type": "execute_result",
          "data": {
            "text/plain": [
              "array([30, 40])"
            ]
          },
          "metadata": {},
          "execution_count": 7
        }
      ]
    },
    {
      "cell_type": "code",
      "source": [
        "weights_updated = weights - learning_rate * gradient"
      ],
      "metadata": {
        "id": "0KK6JU6_0Adh"
      },
      "execution_count": 9,
      "outputs": []
    },
    {
      "cell_type": "code",
      "source": [
        "preds_updated = (weights_updated * input_data).sum()\n",
        "preds_updated"
      ],
      "metadata": {
        "colab": {
          "base_uri": "https://localhost:8080/"
        },
        "id": "Z3WCyAjz0Ka7",
        "outputId": "9a3cefab-a17b-4e1b-96a3-4c9f8be8eee6"
      },
      "execution_count": 12,
      "outputs": [
        {
          "output_type": "execute_result",
          "data": {
            "text/plain": [
              "8.5"
            ]
          },
          "metadata": {},
          "execution_count": 12
        }
      ]
    }
  ]
}