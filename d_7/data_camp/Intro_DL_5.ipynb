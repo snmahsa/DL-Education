{
  "nbformat": 4,
  "nbformat_minor": 0,
  "metadata": {
    "colab": {
      "provenance": []
    },
    "kernelspec": {
      "name": "python3",
      "display_name": "Python 3"
    },
    "language_info": {
      "name": "python"
    }
  },
  "cells": [
    {
      "cell_type": "code",
      "execution_count": 3,
      "metadata": {
        "id": "o5wXsuBA61tb"
      },
      "outputs": [],
      "source": [
        "import numpy as np\n",
        "from tensorflow.keras.layers import Dense\n",
        "from tensorflow.keras.models import Sequential"
      ]
    },
    {
      "cell_type": "code",
      "source": [
        "predictors = np.loadtxt('predictors_data.csv', delimiter=',')\n",
        "n_cols = predictors"
      ],
      "metadata": {
        "id": "au14kELNmWSc"
      },
      "execution_count": null,
      "outputs": []
    },
    {
      "cell_type": "code",
      "source": [
        "model = Sequential()\n",
        "model.add(Dense(100, activation='relu', input_shape=(n_cols,)))\n",
        "model.add(Dense(100, activation='relu'))\n",
        "model.add((1))"
      ],
      "metadata": {
        "id": "iu5ARrOmmrP8"
      },
      "execution_count": 6,
      "outputs": []
    }
  ]
}